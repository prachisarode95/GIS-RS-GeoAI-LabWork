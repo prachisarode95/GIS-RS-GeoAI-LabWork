{
 "cells": [
  {
   "cell_type": "markdown",
   "metadata": {
    "id": "qX5eg0sFLjCd"
   },
   "source": [
    "# Introduction"
   ]
  },
  {
   "cell_type": "code",
   "execution_count": null,
   "metadata": {
    "id": "GAEYyrgALfGA"
   },
   "outputs": [],
   "source": [
    "import ee\n",
    "import geemap"
   ]
  },
  {
   "cell_type": "code",
   "execution_count": null,
   "metadata": {
    "colab": {
     "base_uri": "https://localhost:8080/",
     "height": 17
    },
    "id": "JVzkdp7hLzjh",
    "outputId": "faf49bfa-4fb8-4ae9-c4a2-cbb4ce473ea4"
   },
   "outputs": [],
   "source": [
    "geemap.ee_initialize(project=\"ee-prachisarode95\")"
   ]
  },
  {
   "cell_type": "markdown",
   "metadata": {
    "id": "0xgLzNpnMOX3"
   },
   "source": [
    "# Earth Engine data types"
   ]
  },
  {
   "cell_type": "markdown",
   "metadata": {
    "id": "6GPEfQAaMWMz"
   },
   "source": [
    "## Loading Earth Engine images"
   ]
  },
  {
   "cell_type": "code",
   "execution_count": null,
   "metadata": {
    "colab": {
     "base_uri": "https://localhost:8080/",
     "height": 17
    },
    "id": "VIDT_FzwL4KS",
    "outputId": "feb81852-6bcc-41b3-c9b6-c45aead9e243"
   },
   "outputs": [],
   "source": [
    "image = ee.Image('USGS/SRTMGL1_003')"
   ]
  },
  {
   "cell_type": "code",
   "execution_count": null,
   "metadata": {
    "colab": {
     "base_uri": "https://localhost:8080/",
     "height": 68
    },
    "id": "quOTGwzCMa9e",
    "outputId": "9060ef91-67ea-4f5c-efa5-7346d09b40e1"
   },
   "outputs": [],
   "source": [
    "image"
   ]
  },
  {
   "cell_type": "code",
   "execution_count": null,
   "metadata": {
    "colab": {
     "base_uri": "https://localhost:8080/",
     "height": 1000
    },
    "id": "-RkL2UEtMcJE",
    "outputId": "af278334-13fd-4e6b-a02f-378ddc947f79"
   },
   "outputs": [],
   "source": [
    "image.getInfo()"
   ]
  },
  {
   "cell_type": "markdown",
   "metadata": {
    "id": "IVqMTK84Mmxi"
   },
   "source": [
    "## Visualizing Earth Engine images"
   ]
  },
  {
   "cell_type": "code",
   "execution_count": null,
   "metadata": {
    "colab": {
     "base_uri": "https://localhost:8080/",
     "height": 621,
     "referenced_widgets": [
      "2ae62f751ce84317bb2d1fa94e53f209",
      "6351d1ec4c874c02b5b7887d31d665e1",
      "69bc6a8153d5455e9799deb1d64aee75",
      "366e73b8410e4f26971c149480c7fe96",
      "5c5c107e0a604dfdb5a89f5b5367be97",
      "285ea5f09241423db47cd66b66db0ce9",
      "0d18cf375667428db0cac87ef0914f81",
      "d085f98cd0594cd0ab2ae1df66e2c5ff",
      "7f2c6014f4ef493eb7ead24515b79fad",
      "ec8b8c2814294cc099235d53a26c93f5",
      "ad93b36bd150479eaa0dfaf3806ec380",
      "491e0565fef8451a88dffe93f1ec4cf9",
      "42e6e99a6f704406929b4290c7176879",
      "14169028903c4c77bd8de11da43cc6c5",
      "fab942a5ae7a4806be37b08fcd669fef",
      "06cab30d0062439aa1762b1dbb8dcd70",
      "da2f138eefe44193a272ad4d04c68afc",
      "c7990c90d77b4bbea6407670427ab926",
      "35f5253d2c9b44aebe35fa557c41241a",
      "a575cbffe8f24dd2a5ea9d0336a3646e",
      "3fddb88333f747bd9dd38865ac96bb92",
      "d8c554f5d7d6460aa67729c78e56c2bc",
      "d9ba5479bc1e48da8373d54e875a7aef",
      "7452883796f94b6085afcbbb67ee8583",
      "ecd5f3feb883423aa40bd94f57f929f7",
      "72d46d8825db4a8793da9f3bbe4366d9",
      "5355b9228c774a9087723d381b25437a",
      "6fbb241583fa421da4b47f495454778e",
      "616b3afeb6e243c298212787f44c9e7c",
      "4ff6a1cd4d89451d94248afb1ddeaa4e",
      "f99c63768c7e438fb68001e7a84aebf8",
      "a371c0a8ff4640ffb31b7e39179510ae",
      "548a65a42f884d3e9f59aab285b981a4",
      "fc62f7f0278f426aadcb2887207afadd",
      "ea8c786847004a2483270079cab484f9",
      "bb407dd40e1346dd823acebe86187ea5",
      "35b58124d39c41799f0d93eb0c3a6ea8",
      "a183e90f8b9445a0b1d62fc67b865fa8",
      "8b883e775e4e4d45a7c764a28bce8bdd",
      "53862689c50146d1a293bf34ce2b96da",
      "878b15e6575c4f9f8e503a454d7bf0ca",
      "1f72f13503ae4d21aaf9bf7b466cde90",
      "0cfeacda242a4ed1b5ebeb094991f067",
      "d2c3cc71094b44fd9f5f755c605167b7",
      "93e35f62adb54ae1b7c463640174da92",
      "f7f7d7adc44a4c48aa8acb55f6e46276",
      "bfc507cd900543bd9481e899333c47ed",
      "95e3aeddd8be4618a1efd4a29dd5982f",
      "50065a5108d24034bffd1f39a350e277",
      "11780f8683a64f7998a5e14545fe21c3",
      "7e419cb0ff3c4a6b82dd8c2c923b7fa5",
      "d123efc0fc8f4119843f5f5eecfe24e7",
      "dd0f4bbae5984e4b88c12e978c3af70e",
      "215c216811ef4c028e69e422a4ed01a5",
      "917f30cf8172429a84f471bb049e74b2",
      "be88334fb19540518c025d68eeba42a0",
      "ea8a20dba23f4a9c9fe50dc7fbffe459",
      "e6a28e0b256f4256b6e9698135a3a0ad",
      "0c5c7c1de5ad4593be3b4fb6741a9504",
      "e86127385c7b42baa4f01b3e9925d6c7",
      "930826c3a9b8480fb6f76c59db51be95",
      "7ccfda134bd84e7a948d7708d9f136b5",
      "db3538cf6cf64074b5a98326486198f4",
      "738e16a676054d4d935b95a4043aa91d",
      "6f813107c5924b10b37e7fe63fbf56a6",
      "6a68ccd6d71e4abdbd76790208253319",
      "55c78242bb9a43e0b7d2c0bfb59c3ee2",
      "0ef9642be0ff4139b9b462484af64522",
      "975b4fa16b544e95ba53fdf520a3fb23",
      "c2b82d2e06254a67b2bf015035e2c5cf",
      "01f600c9330942f09bd9c9b0b0f00b92",
      "e34d7abd875f4dfbb67bb4fadf5be66e",
      "a2998efc6807440eb9eb1231fdf1b209",
      "25e6b2b3177f4884ba10f1c275cefe18",
      "a7572d62ffad43b0abd1592f01cebf61"
     ]
    },
    "id": "CjpQiPcGMgmu",
    "outputId": "efdcf220-873e-4423-a482-83b24d4235d2"
   },
   "outputs": [],
   "source": [
    "Map = geemap.Map(center=[21.79, 70.87], zoom=3)\n",
    "image = ee.Image('USGS/SRTMGL1_003')\n",
    "vis_params = {\n",
    "    'min': 0,\n",
    "    'max': 6000,\n",
    "    'palette': ['006633', 'E5FFCC', '662A00', 'D8D8D8', 'F5F5F5']\n",
    "\n",
    "}\n",
    "Map.addLayer(image, vis_params, 'SRTM')\n",
    "Map"
   ]
  },
  {
   "cell_type": "markdown",
   "metadata": {
    "id": "PcO17p5NP7g2"
   },
   "source": [
    "# ImageCollection"
   ]
  },
  {
   "cell_type": "markdown",
   "metadata": {
    "id": "4aUygEV7P-xY"
   },
   "source": [
    "## Loading image collections"
   ]
  },
  {
   "cell_type": "code",
   "execution_count": null,
   "metadata": {
    "colab": {
     "base_uri": "https://localhost:8080/",
     "height": 647
    },
    "id": "VURIjEeWP5rf",
    "outputId": "ee67fb31-ecc2-4967-bd08-3afff982d0dd"
   },
   "outputs": [],
   "source": [
    "collection = ee.ImageCollection('COPERNICUS/S2_SR')\n",
    "collection.limit(5)"
   ]
  },
  {
   "cell_type": "markdown",
   "metadata": {
    "id": "jfD8EXt2UutB"
   },
   "source": [
    "## Filtering image collections"
   ]
  },
  {
   "cell_type": "code",
   "execution_count": null,
   "metadata": {
    "colab": {
     "base_uri": "https://localhost:8080/",
     "height": 621,
     "referenced_widgets": [
      "360639611b7141d7b69d7750b585b519",
      "ed2e68fb0b2d4f1e84b48ac1731ef825",
      "79c00bc3558a445bab1067e2a9fbc58a",
      "1e578e079cf74429abd113ef3d3e9c2e",
      "5ddd5e5c91ad4936a1abf2ca82c34b08",
      "9d87340f2063458a9d5af726d5e8f462",
      "143adb65e876471d800f062c6d65eae2",
      "a93533451ec64890a059bae865371f73",
      "7b12a5f3585141f5966f2ca84ad2f8b9",
      "12608f56c01b41e9b270c588d66874c1",
      "259f85f2a1a64f83b4f3c9b0c914c9c4",
      "cb461f1f3b0249ac9d38e7c88cc839c9",
      "ca55a5b0874e4942be4c7b0a992ab033",
      "356f74d70aaa4a4aa46e7e9b0c073318",
      "79f9b1c94a33417b8c82f869dc39df02",
      "0821e9b50c3e442a91f77979b5eed85a",
      "3756c1182217454e88d7da8e72aff404",
      "c476306e2b6f4d078fbc88a04c96c02e",
      "eceb178783ea44eeaec9ed6aa6c3fb02",
      "851b4d0a189241688b962b4b5e9a9b5a",
      "acca6d66ed6048888e9a4f88a4c67a02",
      "f43ee9bde9bd479d8322cb3585fcdb2b",
      "344e3226fd05429bb219a12d5aa3fa74",
      "23e40869e46e4b34ad70f13353b7d758",
      "fdabad213ad743c3803015f1206bde45",
      "790a83e6e7554027ba798161cc38ba1b",
      "58c4c70a067348a8ba1c489fe61c10b1",
      "53f45f853eb2489f83884bf85ffba037",
      "2370fd7b26b248e28cfde8bace9db7be",
      "2e08d51eaac84429858e5d86757f4e24",
      "7dadfb55f09a48a99f885d8069b3df4c",
      "0338c9b9d56a4aa08264af8f44f76a54",
      "61aa631bb22a4512b650aaf25cfbbe03",
      "5c4361645e4b47edb2968d977a8ed4c0",
      "1fcb9c1496314e78b2511f104b1758fe",
      "51cc20427d5a470a8effc9beeaeb229f",
      "14a3c472028e488e9efb84e4c5e42e13",
      "16aac3ab03914132b3b16e1953cfbddb",
      "4d0a686b4fa14252b4e8b740f92b8e78",
      "3c8d779a55e641fd92865f680c758348",
      "69215dbdcc174e528a6d13cd8a658db1",
      "555dce1be1a84cb2a25fbf1e33f328f1",
      "f797e1a5c86c470aa0f3dcf890cb02d3",
      "6808d72051a94a36b89da204a25961a9",
      "7ae68eed4dd84eb19b511a00d10245e9",
      "74b1ea55d90741958607c7be805c49f4",
      "be22988170964edaa9db0adfe4734150",
      "093c0ce568fb4cacac4f229e413fd8ac",
      "6d7aae82022f4d3a9f9e6ddd36dd1bcd",
      "7eded46d126b4fbd81cb498b2a2d9ee7",
      "e2f049e66c764d77883ba2dafc65bd21",
      "d0d3ae02626741e1a6bc11d449d87294",
      "36005819b85b4cff92b73b7cdb2972b7",
      "51595ffdeb824e998ead96be84aa650f",
      "69664f15802143ec8700e10c43e70693",
      "90f63bc4adb645f697b53e6d759ef8e0",
      "d63716758ba44dd4af85753c022c7e95",
      "9a4395c6dc944dd483f97d706b3bbf11",
      "8a67e08b388e4ed889b870888f02ba3c",
      "b1f206a9155c4c81980549e015cf1823",
      "da41807efa5e4421973c8abeb0eb005e",
      "4a9ebdf320494aaa8e44f20499c527ef",
      "f9347b726f4c4869845d4749710015a1",
      "1dde61c6e47f4f69a440c066b9b0a1ba",
      "fa474e9182974fd28c4128e1c9ddeac5",
      "04bc89c81f2c4a30ac01a33361948c9c",
      "b28d5ac18c6a41178cb22b57fcdf5ba3",
      "344cfb54016d487998da7ef72b9fb62f",
      "0351ea830f9641ffbf353b7fd93b9741",
      "faa2be0f3fa74e26b5e65dd12561ca4c",
      "1970cfaee55342f8904cde7aab86b70a",
      "e6661793b5df4f19a2f2ef757c48ee22",
      "acdc1f93137749c09026e9d4e5f2dc8f",
      "9223dc7a38424714acf7080b306976b8",
      "2a555535ae8c47c18cd433772b8a2318",
      "eab669b3d900465b903671bd6dc3547e",
      "ae19a1ec7c8a47da86847ff3fe9542fe",
      "6b2c53d0e32c4d9e9588fa3a5b30c28b",
      "6db59884562d4e719caa024e3f771c87",
      "7c05a619062847b3a4ccd4ed6679c382",
      "95662d8ab8af4a4fa2b85a5c6cb1f6a8",
      "29a2eed92460476f8d137e58aea4828e",
      "e17fe36f149d4c72a0efd97052f4a0f2",
      "51d12f42a3974a399070e917c2132c44",
      "1d5d33fa3d2a49fa8b8078660a931aba",
      "9b51d98d6cc740dc9ba49d5307ad2586",
      "eedf19f835e14c1d81626cf8d6e72c3f",
      "78386424ab504e57823ef7e0dd155f75",
      "f2d561d0633948b1a52633fc9795e5a5",
      "98b9c8469f1946db8fc6117412b6a4f9",
      "af51a60da8a14d1bbce8be9ba6bad7c3",
      "2dbb9e1d9fc7492291cd8a288db81569",
      "9f49b2f625544defb9e9773f1e3d9804",
      "84f1074da2f5427ca048ea6cafe1e302",
      "71c5e20dc0a44d488ae92db0726b619d",
      "847dd9bceb9c431ea5a4519c4b8c164d",
      "afedf49a5a7d42bba8df256a69db785a",
      "d7c1e5bcfde6447684f1df8abbbbd5fa",
      "f17214bd652d4a7aa0107e4e61447625",
      "aea59642728545289130180e35541040",
      "d307559828cd4cd7af4508010b0b2aa5",
      "df0fa7d35e9146868059244f2ad27e5b",
      "a87fa7d4cae147b3ac8c0835afa4fc78",
      "cb0f3d6fdbb24ca78482b8aa3b677be1",
      "bbea52fcc8b946139076424ce77a04ec",
      "9e02834f3f954b8a9ea8805b47e77727",
      "56f197a0694145909ff62d5209c2c81f",
      "5aaa9bf6e6834349baf594ba62be72bc",
      "6150093381d14efd8651568e0edab20f",
      "51634313471845f3a26c44d1a96ae3ee",
      "8d36e3bf1bc649949733f38b85c416ba",
      "e85cade5ce4747889148217c681a82af",
      "c167fd8a64e54d8ebf495478a4b7a05d",
      "805adc80fbf84f53bf8a7d083875f641",
      "331fc3b0d2a1412b9b73cc71ae2a8b8d",
      "837ca14a6b9e483398b7754cb74c0929",
      "1e23b46c4cb24bb79f765c4506a86cfe",
      "bfcfaa66e1424533b32b53f66dcd3bd6",
      "51bd448ccabb408e8400341a4e1f5abe",
      "5acb4f0ee9f9415ebe3f066f1c94f064",
      "0e828f8cc3d84637965faf2be2d4c774",
      "097dbad6f46e48819c597052d94adde5",
      "ffe64ec3a8464144b7e5a95bb5c370d9",
      "2981818f0a4b4e37bdaf0ace68e5365d",
      "ffe886fb48574418a07f6a4f97672350",
      "b2f445baff0142549104e34900616f1a",
      "5728d0aa10bc4d17b1df0a1052a712ce",
      "0e7354f740d9409f829c76d7fee040f6",
      "ae0f597abca64f2a9b68b12efc83bc31",
      "578288777b3d4c4aa22edb888ee86ef1",
      "ce75141d67f94095bbd8b4653bcb4bc4",
      "ff1afe3f395540c2a34a8e41456d9145",
      "9d44b11d921147bca0a4a6d88976f149",
      "be21f18b3afc4fb19b55a210d6b43905",
      "e238a00eb3cd4514a302dfb3b5bf3636",
      "c3e6660f9e0846f6b4175be197876dad",
      "fbb21cf897034aeb97fe2ad75681973e",
      "a24c2a2b9ad2427b8cda6213a44b6849"
     ]
    },
    "id": "zrOUrdYPTeCp",
    "outputId": "15793aa1-c169-45cc-dc34-5240c30e7a48"
   },
   "outputs": [],
   "source": [
    "Map = geemap.Map()\n",
    "collection = (\n",
    "    ee.ImageCollection('COPERNICUS/S2_SR')\n",
    "    .filterDate('2021-01-01', '2022-01-01')\n",
    "    .filter(ee.Filter.lt('CLOUDY_PIXEL_PERCENTAGE', 5))\n",
    ")\n",
    "image = collection.median()\n",
    "\n",
    "vis = {\n",
    "    'min': 0.0,\n",
    "    'max': 3000,\n",
    "    'bands': ['B4', 'B3', 'B2'],\n",
    "}\n",
    "\n",
    "Map.setCenter(83.277, 17.7009, 12)\n",
    "Map.addLayer(image, vis, 'Sentinel-2')\n",
    "Map"
   ]
  },
  {
   "cell_type": "markdown",
   "metadata": {
    "id": "BPHUpr0pWpg9"
   },
   "source": [
    "# Geometry"
   ]
  },
  {
   "cell_type": "markdown",
   "metadata": {
    "id": "xpdlsZ57WrnT"
   },
   "source": [
    "## Geometry types"
   ]
  },
  {
   "cell_type": "markdown",
   "metadata": {
    "id": "nGj0Dm5FWv2n"
   },
   "source": [
    "### Creating Geometry objects"
   ]
  },
  {
   "cell_type": "code",
   "execution_count": null,
   "metadata": {
    "colab": {
     "base_uri": "https://localhost:8080/",
     "height": 621,
     "referenced_widgets": [
      "8c6d9662fca342fabd6466e3e9bcf1d7",
      "6150b7faeef748b3b98a3767b3780eb5",
      "f39da45952ba4fecaba505f89246b3d3",
      "07c399a7e19d44728751559e71e6ff73",
      "00d05e2cf9b74b719f3ae79f8ef61d39",
      "1c0f02b25793466fb49f587886dcd804",
      "e497f59cd1e84f6a9227ec463987e95b",
      "cd61b84a13ad4241a4cd21f46874442d",
      "b6dc6961d7884bcabda06b610d5cdff2",
      "b65eb26f39f5447ca91afb78add78475",
      "ecd1a533973e4d2ab90301b8666e3502",
      "651e1e0aa8b045fbb55259a2dc6bd35f",
      "408add32907c47aeb3ec80cdcf8f798b",
      "99098cb1fa8f47d8985274ae5f68a3e9",
      "f6755982c70445c3a24eefa42508c1ea",
      "170833da9f3e4616b5fdbfdc44d9b019",
      "69c827435e354203b78727b0bd58ac60",
      "ce761f1b6c4a4ba9b939a7b4785edf63",
      "8ce440ecd30448babb3d30ccb59db08b",
      "519bb1e6cdc34f92b15fa0c3aa4120af",
      "c9d0737f0d144cef8f2c0668564cb049",
      "ac9058f30d154c8dae6a8a04acfea647",
      "efed6c1b3bb64b208c25d802961295fb",
      "18141b8e595240c89f1fd574e23e45e9",
      "e7ecdb00559c4a8b98f261a49eed3a0f",
      "9ebb2fe4250d45fbb050dc2eedd55c5e",
      "57c8c5400bbf4a4f8a4f8bc167c61b0e",
      "656c76ddb10241f0b0cf969fc402016e",
      "9930bf8b81bc4ee09f3e4fa94fffef7b",
      "b436106713d6408796e98505e9205f40",
      "b5a35fcf96e14658aba57f0982057a83",
      "268038590f774faf99a89e871529161f",
      "8c998009d7eb45f697f7fb84b49533f6",
      "3a739b5ad7f340748d5cc0b07f1068a7",
      "dd41c505474e4f8d95fc715fedfc082e",
      "3bcc6cd7ba064f6080204f2058f30223",
      "5b819bb9d7b24002a13b19f5175c812d",
      "4a860048bfc1496489c50b9ed75d9000",
      "39022eb4b2ca49ecbc4e1462100685d1",
      "467817ab66544bb09f83cfdfe2241114",
      "4a134e2ff7be4df68722c7e4a509aefc",
      "7bf3589f05b44be2aec46647738fd10a",
      "b5c0ff063f1545fb9c3dfa015847a775",
      "b38a49eefd1f4341940ed6492fc41ec9",
      "b523510871cd4afebdadea063e081fd1",
      "e25800b95d29407484687cc2648f3857",
      "d3c1cec8ebd8419d8686537d3d77a24a",
      "dcf3458896c348efa8725b7202f0b60d",
      "e610756ba6924c308713e9f3a4d0f8bf",
      "e3a20f89db88472886c60a03ccce2530",
      "3e0a5e8104bc4f77832be6b9a41b9d6b",
      "858b79a2cc12428cb7189c2d7fd574e4",
      "df81a31c34bd48dbab4a09676fb7e09a",
      "293955cd631d4e48ab0b2b8f40ff8446",
      "33ccb24dde0449bebef230f92d42ae47",
      "2955bd1b63704d81bad4e471e1df4bfb",
      "11f8b8245bf74e29845297ca39ae94f8",
      "f9f42cac9e6843f9ae4cce03631b13a4",
      "a005ba59b8e0431b827c3a4a7225c86d",
      "9c81b1eccf634d468bdb86e5b218e920",
      "d9667b71df4b443eb1a87c8daa4e3582",
      "9c237e1e31474755bb59b10c9fe121ec",
      "4c41d497f63f4bf885fb67a275c0e692",
      "04de1f63edae4eb7b1a4a5d0c7c1c3a3",
      "2104f191619e4a5a8b69267652e273b4",
      "e97b10bc38ce4a1393ad810c715a3f9d",
      "f0c9024c8e9c4c71bbcf0a6f048ff9a3",
      "117ce8701d984c05b9581910b84baac4",
      "d2f42311c0a140d0907cc54dc5d164bb",
      "40a4ded44b90454c9bad05b7e22759a5",
      "5055bb5699db40f7adbc4aea4b046f22",
      "961e56b6255d4b1f9eb2900d18c46e36",
      "5da7597fdda54c0297d55348de643481",
      "cc6c3d5b8a534b4fbc91599e256f0b5c",
      "0b846be86d1c4ff08b30f2af6f92a2e5",
      "e5cff9b5e7654b258a96ba3893efb4cb",
      "2dc5905a157d4e2ca4bbf5d73621521a",
      "70d3896ffc7643dc9bd7b0a09fffcb69",
      "efe8bc05cee84b55be285ca4249935ca",
      "aaeeb5115fb0436d97adcc98cc812fc7",
      "267df1a5f13d455abaa2e88c31c8185e",
      "b69e54b664c74db6855ad43994e58499",
      "6380225cdb464820aeeda6d04573b2ad",
      "96879ac62c834f6ea0ba12916997e457",
      "3712461182924962b46a594419e1cb43",
      "9568006257af4215bb83332cc14cb177",
      "b1c1b49363254584a394ccb37ee652c2",
      "16435c5179884236b410e3d9d587d480",
      "e69d2304a88f4080abc8cbca56a9ae8c",
      "73ac47b221bd4156b508ab4a76e36d3a",
      "0087ddc46e6940c89597955cbb409110",
      "fd62554fb4aa41ff925beb2b0739aaa5",
      "6bc34224f11d4c47b69d112105702acc",
      "06c86e93c8244c9b8ef6b10aea7d93b2",
      "51a570ddf4c54490a061faec07922bc5",
      "f0680aa79ad64a75b2650651b4ff4a31",
      "1cc5b743bd3842c5a7ac505dda09e346",
      "5e2793f8907f4933b6158ebe5339b2b9",
      "dbbb0082600f4830840ec2b73188daa3",
      "42ab431fa1a042f49c7c29f31a0c8d5c",
      "e142a6c50db14199962f91f04a90d5fb",
      "412ee252560a421aa636618c664b30ed",
      "890eb73ff93d4b79844ac8f0297396fd",
      "dfefc350dfed4846a353b684bd0267a4",
      "1552be55d85b4970b64a5e4067e95f5a",
      "73af17c79eb8482a87490c6cbfcd0f89",
      "50b0a5de4b184101bd6e3cbd13419a93",
      "6f508a7a41784cbcb51cfc1b12b38470",
      "a98d2d92d98e47118e08740aefffe81d",
      "9608a0bb151145998beea399c68f7d54",
      "2698db077e5b4b309966ef2cdb033cd4",
      "509bef253f2c4aeab5e6431a84c186bd",
      "1b6684afda2042ccbcc5d93522b4d80d",
      "80f7d687cd3746d0ad9d868922bd8ace",
      "c3bb48c7655b47b8b6c8c8b87cb84f42",
      "06a89f0ad900454ba4494fab40b902e6",
      "3cfc384fac7e417db3be6ddfa42bd84d",
      "1fadd3cb41c34950bbfd3a83d78c8006",
      "0cbcaeb95ba84e6ca3b902438eda3dfa",
      "c6bc27a0621d48e991528ff741b264b0",
      "2b47dc97269747bc9b7935d93b75b9fa",
      "559d2d1918d14033bc356b9f881054b5",
      "1878e624305f406d841471417966771d",
      "341977f236134437bad999a3404bb7bb",
      "48e3019debd74c1a81534c3ff09d5ca4",
      "9d76d963e5044455a957d6694564e4da",
      "7b8e07d64f0843c3875f7959ab08a1ef",
      "e18b489e525f45fd8ef8ebef706531e6",
      "595a77b7af824d9ba6ec00f7e3586a51",
      "05646d1438ce41c59c7fbe84cbdc69da",
      "ddbbe3d253c94c77954db9cd9f32da8a",
      "9d75c4cc6e8849079ea36b92e695a92e",
      "68d0ed792d0a4aa28d8ae8e2690b8188",
      "8d3d7011409145d298d7371d05c7855f",
      "62cf54843b7b4c719d736d53eef71e6e"
     ]
    },
    "id": "i6H7qHrjVES1",
    "outputId": "45e8d04f-6465-4944-a897-5e06ce0d80c9"
   },
   "outputs": [],
   "source": [
    "Map = geemap.Map()\n",
    "\n",
    "point = ee.Geometry.Point([1.5, 1.5])\n",
    "\n",
    "lineString = ee.Geometry.LineString([[-35, -10], [35, -10], [35, 10], [-35, 10]])\n",
    "\n",
    "linearRing = ee.Geometry.LinearRing([[-35, -10], [35, -10], [35, 10], [-35, 10], [-35, -10]])\n",
    "\n",
    "rectangle = ee.Geometry.Rectangle([-40, -20, 40, 20])\n",
    "\n",
    "polygon = ee.Geometry.Polygon([[[-5, 40], [65, 40], [65, 60], [-5, 60]]])\n",
    "\n",
    "Map.addLayer(point, {}, 'Point')\n",
    "Map.addLayer(lineString, {}, 'LineString')\n",
    "Map.addLayer(linearRing, {}, 'LinearRing')\n",
    "Map.addLayer(rectangle, {}, 'Rectangle')\n",
    "Map.addLayer(polygon, {}, 'Polygon')\n",
    "Map"
   ]
  },
  {
   "cell_type": "code",
   "execution_count": null,
   "metadata": {
    "colab": {
     "base_uri": "https://localhost:8080/",
     "height": 621,
     "referenced_widgets": [
      "d57dcaefae3a4d1197bbb2cb60c6c044",
      "63eef4817b65452e8e684a5f4ee23822",
      "4bb472672a614fee99eec0482acc660c",
      "aab7c2aec2a64fa290e1bc4257041385",
      "716d6d56356148c8818e39b5f5a6b633",
      "6e9cfb26486044938f1e8f349f56e734",
      "7acea3c7f7294be1b370d1a199464f9b",
      "309bf695c58d43cb9dfb92122cd10b25",
      "8ae5ec9feee2437d803c70a7885ef773",
      "59bfbdd15b494199a6563807b8b6bd29",
      "d33c2df80f914d0b8860093f5b0af89c",
      "81488d3b7bbf41bab36e0327e1638224",
      "2e88127bfcf640dd90f80a4167b3048f",
      "d902da453827468490c6df5d0e070671",
      "1c27df9cc3fa48bf99d1805fc6e5cec3",
      "b13676965f0f4c079c94d3cd928cc285",
      "6b2e967e34454bada0977e722ed82eef",
      "80e8c479602c49cbbca6812513d7aec6",
      "86558f4f355a45c2b5fdd73dea65d6e4",
      "48a7161025614575af12542a4413d484",
      "0be594aa80234da39d872e0c749d8702",
      "fb73453035c6426498cb4ee203bc232c",
      "2cda899b175b493c86fe91ff6f6c4bf3",
      "8fb09fd0d5dc47ab995b7a347b3ba463",
      "13b10c5f27134999bf1bb35858928bf8",
      "510a8b7cc8574dbeb1f7d25df8bcda04",
      "451b9ab5ca55493ba61494380211838b",
      "2f01edd3557d4092bdfb61b8ae4cac93",
      "78d7d0a5a130487bb8d3600e375ecdc1",
      "ecf9689cbc6e4cb7a61e6f1f64d6ac80",
      "57359974c0c547c3ba8502f40509d605",
      "d9a25b8bd9c84dedb1c95626ee61d0d8",
      "904c5fda714644bc9dd9c0a85863f605",
      "2d4136ffcfaf49bfbbe4a63843798bef",
      "9b2e2a1f347b4921b0b4651e562d608a",
      "a56c46cacff74f2e91f06a166b5037dc",
      "f892be3b63fc42ad9b25549394c621a5",
      "947b03b3d5b345e49bf53710bb7f17bf",
      "6b9cebe100874a81a019eb61dfe9bf56",
      "b0390c3497084febaa41c4f8dd83965b",
      "1c6415dc91fb4f30b8734a9ed9139b42",
      "3c80c4841c6e4df780c445acc1013ce4",
      "6d9b5c7876b644e6ad68b8bfcf341508",
      "3c3ee99d6dd44c7cbba2707b7488f1a8",
      "07d58e049e3041daa138f03396616727",
      "d52db855ed8443ae8876b47c6eedb095",
      "1cff0ecbb0914d33a074b75e4067c0ff",
      "e8773a71fb25453380579abcd14516c6",
      "2110afd8c06a4f6a8b102d460379f43c",
      "a84385702c82461d9c21b4f24b39f36d",
      "23a07bb4529245198fe78e50d71e9b0a",
      "fd10ae46d9d04985944cee5d447a9dc6",
      "b44c8d421b6c4494a219593d426a596e",
      "9dea1407879b47189164fc4fd21712e2",
      "c954617c6a384262a101921be8bc3fa4",
      "0e78a12fa91f4d958eccdcb8f3add51a",
      "14373987f080475793445f6cc175d844",
      "d151ec903f1540ce9e00cab079b9b5a0",
      "6eca8b8b780b47b1b4ea95fc4583cfb3",
      "a40c7683ce2f454998870ba045d819ff",
      "9f1a1299bd3f41c280e97d2327d74338",
      "292e0c9c13a74035a0560a1320d52d47",
      "9f5bb5bee442438886597d893530a168",
      "657b4f97bd9f4ad6b80f8f6b9ebf989a",
      "06168d80babb43128e47a08f689708f8",
      "33d615192b26421aaa298058ad7f13d9",
      "a3c7f4704220473e9eb126a06d1705bb",
      "e4b5a1b1691047a6944e77c2e2650fb9",
      "49159d5fe7b147338cc44e94ea8d06d4",
      "d2754d2ea1dc46939555191de161d252",
      "f01102222ee54ce492b1f106f6c7bb53",
      "13ec965d036f46819bccf48b6ca6bfe0",
      "6c2ef6e136c245df80d123488c22a30b",
      "e16829f64fc74a008145bff3d6660ee8",
      "4b63ab7ad4e24bb2802c373f38ae0486",
      "3c67ff9d24be4eecb4bb2107815a5ff7",
      "1db1971fbddf41f5ade995e305dc070a",
      "fa065be0c52242899f379074cbd0eac2",
      "23fb3208d7804c8f9fa7af616c45db4f",
      "b29670d6667748699f12f6bbc23f5caa",
      "a890ffc9e54840baa25807a52585e531",
      "ab622f40bb4b4d05a3d3e65ab4bd38fe",
      "edb418a8831048bf9ea22964bd8c3ca5",
      "0f0897aa085541c2ad1c8a5717f5fc8e",
      "ec3a6ab6bff144dfa4a47398eef8cd85",
      "d794ddd305464d5daa882c093faa629b",
      "16a46cb4b2a642e2af4495aae8d91a9b",
      "5a75cb76a25545d99cecc01b1d69576e",
      "2591c6d4e2fb4bbf80b2038ed1519c3e",
      "81eddb9fa7a546059097675a21283797",
      "9df73338579945c58d531842f32a7966",
      "b0b17828575c4d55aa2f1e413e59536d",
      "42680b0f51a54cf4b1cabe6114e40f0c",
      "4e1bd535646b4692a6a6c3789fac876f",
      "c1541597c4594f1297e7d04b991b847c",
      "74388752cacb417f9466e7c1a3b92891",
      "9dd653e108dd44348803b792b9070770",
      "776447be82824f57b175caac74b0a71e",
      "8dd61de3fd5641fdab694d4e4113df99",
      "946c829eb9d54f209079cd6de47bcfa9",
      "dc06692cf66d4a9e93bf66b60fae71f8",
      "41249cfe55ba4f7db65bcabf9df817b5",
      "0f76858aece74854b7fd76218dfe8d94",
      "6d4ebfe5c503446c9c488b2c2c4021be",
      "e52a6df5f6b249b89a9115db5adc2ae0",
      "33a4ae72eeb944858f10af4f208beb92",
      "df0712d7d4fd455591f09add85d1ffab",
      "3225a61e2c0945af9b04c7250cb4253e",
      "1b34d962cf944a7ebeb929a94c64eb30",
      "d5ffe13bc070499ca0b23e17e22b9631",
      "0583f81aa90145148635491f75986f3b",
      "6d9441ef21d44228959f6e5795778f5e",
      "cef272a36d4944b98c3e7b30d54f734f",
      "6f532ba419264cb79cbeb50b0786d7f1",
      "07396706a81f423e8d61b7f5e09f84b1",
      "97145bde82b048f78aa3675946a88ada",
      "391b14afc9a64f2a874eeb5406033e7d",
      "52fc86db36d246c8b5f4350db099bf9b",
      "e2abdc981df5451186e1085d21d80e7a",
      "1cb07ad406b347bba9728a61bd7f4176",
      "ba12871158444ef69261dd5d21bf47bc",
      "075b086c519443308eb1c8e1a6e3d615",
      "2a7b69d201d544f6bae66a01b23a7de1",
      "1e091679b91c45a7894d9d5cd3fe389a",
      "002fa5d4e6ed453ea836be9b0b4c0c41",
      "3d316b914c754116b7e8241dcc74e9f0",
      "6a5271db79954e61a003d209ecd50694",
      "595e50e95e8846e09754420e221832c4",
      "0cfc38c5d2b54f4e9c96a9728f4557d4",
      "e687cb92103241e6bff9f15466aacf57",
      "bfb760785e3045f3911385ef0060b1f2",
      "f922826fb188438db6bb58ad0844cf34",
      "657c82f9e7d7472095b92fafdd1cf50b",
      "a7b22007f7a74c99bf6c3ab7b14d437d",
      "acc24cc0d97c41e289c762dcd473834c"
     ]
    },
    "id": "ewxBUviAXe2o",
    "outputId": "8b622f7f-ddcb-4173-82be-e14e04012f16"
   },
   "outputs": [],
   "source": [
    "Map = geemap.Map()\n",
    "\n",
    "point = ee.Geometry.Point([1.5, 1.5])\n",
    "\n",
    "lineString = ee.Geometry.LineString(\n",
    "    [[-35, -10], [35, -10], [35, 10], [-35, 10]], None, False\n",
    ")\n",
    "\n",
    "linearRing = ee.Geometry.LinearRing(\n",
    "    [[-35, -10], [35, -10], [35, 10], [-35, 10], [-35, -10]], None, False\n",
    ")\n",
    "\n",
    "rectangle = ee.Geometry.Rectangle([-40, -20, 40, 20], None, False)\n",
    "\n",
    "polygon = ee.Geometry.Polygon(\n",
    "    [[[-5, 40], [65, 40], [65, 60], [-5, 60], [-5, 60]]], None, False\n",
    ")\n",
    "\n",
    "Map.addLayer(point, {}, 'Point')\n",
    "Map.addLayer(lineString, {}, 'LineString')\n",
    "Map.addLayer(linearRing, {}, 'LinearRing')\n",
    "Map.addLayer(rectangle, {}, 'Rectangle')\n",
    "Map.addLayer(polygon, {}, 'Polygon')\n",
    "Map"
   ]
  },
  {
   "cell_type": "markdown",
   "metadata": {
    "id": "NZ5RBRY-X4NQ"
   },
   "source": [
    "# Using drawing tools"
   ]
  },
  {
   "cell_type": "code",
   "execution_count": null,
   "metadata": {
    "colab": {
     "base_uri": "https://localhost:8080/",
     "height": 17
    },
    "id": "pDfTbx9AXvy7",
    "outputId": "bf59ab2e-ef23-40dd-d459-97dc562d7ab6"
   },
   "outputs": [],
   "source": [
    "if Map.user_roi is not None:\n",
    "  print(Map.user_roi.getInfo())"
   ]
  },
  {
   "cell_type": "code",
   "execution_count": null,
   "metadata": {
    "colab": {
     "base_uri": "https://localhost:8080/",
     "height": 17
    },
    "id": "-6p-WZemYDwh",
    "outputId": "1440062a-ea1e-410d-864a-2f4cf02f4bb8"
   },
   "outputs": [],
   "source": [
    "if Map.user_roi is not None:\n",
    "    print(Map.user_roi)"
   ]
  },
  {
   "cell_type": "markdown",
   "metadata": {
    "id": "AiNzkAw8YMnN"
   },
   "source": [
    "# Feature"
   ]
  },
  {
   "cell_type": "markdown",
   "metadata": {
    "id": "r-c0ZklsYPJs"
   },
   "source": [
    "## Creating Feature objects"
   ]
  },
  {
   "cell_type": "code",
   "execution_count": null,
   "metadata": {
    "colab": {
     "base_uri": "https://localhost:8080/",
     "height": 362
    },
    "id": "qfB3-alLYIz2",
    "outputId": "d1027ab4-3821-4f37-e7ce-7fd035b85ede"
   },
   "outputs": [],
   "source": [
    "polygon = ee.Geometry.Polygon(\n",
    "    [[[-35, -10], [35, -10], [35, 10], [-35, 10], [-35, -10]]], None, False\n",
    ")\n",
    "polyFeature = ee.Feature(polygon, {'foo': 42, 'bar': 'tart'})\n",
    "\n",
    "polyFeature"
   ]
  },
  {
   "cell_type": "code",
   "execution_count": null,
   "metadata": {
    "colab": {
     "base_uri": "https://localhost:8080/",
     "height": 621,
     "referenced_widgets": [
      "369e5319d4254b218ca3381330f98c5c",
      "05c1c37fe5a04619bd3d0869ca30f63d",
      "5097889f2759484eab1915c2da3b0ecc",
      "348e763fc6654440b2433d8a582b59ce",
      "c426b79ea5e1446dab359bb3055dfed3",
      "244a3eb5f9794d4a98f231040c04165e",
      "0fda984abd354e96acf1e9d6f1e65eff",
      "472108c2e7144a819d86ab9a1b224493",
      "181cf13f4b5d4ef28d6063e83ff16c8f",
      "954b927e0cff4d02a21136f73ed27993",
      "b777d6cb54f74ea38fc44595f82517fe",
      "99752158f9ba435191e0a357e46fed91",
      "0c30103218a8488c8ff466ac3c86ed91",
      "2a22b32e2781495eba20abce1123b26f",
      "dc3aee2a952b4730b26f27f867a453d5",
      "2d95ac48a25d4bc5831bd00bcb96441f",
      "f6478889886546d8a397db6118220eae",
      "72e5d2c40fec43e3a238bb9493ccc0d1",
      "0d28780f836d4653874445a5b02ccea0",
      "da72b223d9844b29b4b2977b7c9907ac",
      "e6f78eea27b44bebb3019a4ca7a78d2f",
      "9f448b18662b45359b932d0d74fc2bf3",
      "a725429f4f3140568e3f5a03a63a98b3",
      "feb294ea10c94ef392ee191a2d2c19d1",
      "a79653e3c17442d293466257f5f143f2",
      "f2b390a59c78455095c70e89354eb8c9",
      "6a20b85840d7479fa8c679d94f291ca0",
      "c6a1fddde63549ffab1bb0abe731c999",
      "d5241a3a53464a189547da2e9ac259da",
      "4f528f034fce4cb78c7e986545909eb6",
      "af85a0f0fe3c420aa1967fe324a4452b",
      "0d0a10739db04bcab9a7d659722d2f3e",
      "9d628da6054841c18cb32d8e216800df",
      "6a28fcbcd8d34988931b897904344442",
      "654bc438790a4f9eb085f2570bc7954d",
      "1678e42bf3b74aae9c41589f1c065e94",
      "bd72665325b746b0bf254d70fb02c868",
      "80ba667785d84b4fa826cf353d2d27bf",
      "7e44749fbad34398a0c480db0f6ecbb1",
      "d97f85153e82433289547ef8f3b56d5e",
      "fd4be737daa2472f868fc02dce32952e",
      "5851512ffca4442c81d6dd1fc25e1524",
      "1a6042f702424425af5da9665ae24041",
      "872cc20380004cc3adcf05b1a27a35e8",
      "757ea24e734e4d13867fb5933609f6c8",
      "a95de5559195495597fee1a4c32235cd",
      "3c731a0d4f354bd188fec5fa35ff08b3",
      "377701f486564eef82b04c966ccfd57e",
      "611fb4fb1bdc456f995b9a8306e2515b",
      "d0b0b46573fc4ab79b18352a8b77af75",
      "fd63e4a32cb24430995d2893640e2a02",
      "d7307b879c964bfab162d326b56befc7",
      "90c53ccc564c47a9887a47b68f6275dc",
      "d445a36bf93448c5adb6492b7f22d3f9",
      "1ab328b1ecbc4e39a2544a4a77ba55d4",
      "978609f8e1884bccbc70fbac54ffa357",
      "40824d1f92fb4771aa696c9f50183fcc",
      "79612cef7ee44badb5e5939ed9249029",
      "964c15df33384eee8fa2a19258e0e7c1",
      "587ecda9acbc43509d7b3a10527407a5",
      "7b67e5905de048b9ba2762b6c5991219",
      "9afe9d852f264441a533668beefcf13a",
      "4ca36bb0237a4800a026a24d2b321432",
      "f2516ee3b7f846a1adb428dfe1fc7f8e",
      "be23f131e6b0486c8c9dd1406b6cb132",
      "a5a7347120644236b409641ec1192959",
      "142f2387313e4e3089dabd78f9af8ea5",
      "08420800bbf248c1928599c4e568eb5a",
      "2846164e1e474e02a0715369e58b3f32",
      "fc86c80d590e4b8b837a982baa6e7c49",
      "c1f23bb8537e404b8c184ba1e9f546d3",
      "fefafe7b505849d7834daf01fee34b62",
      "52eafb0b331f44cf82dc9ab2edea2fad",
      "d9af977acfa74de38bea0379cd2a53ba",
      "98c52028460840e6a42ae5a4f8feb62c"
     ]
    },
    "id": "FAPozj0gYcuq",
    "outputId": "28800622-cb59-4ad8-d8f2-2684e48966bc"
   },
   "outputs": [],
   "source": [
    "Map = geemap.Map()\n",
    "Map.addLayer(polyFeature, {}, 'feature')\n",
    "Map"
   ]
  },
  {
   "cell_type": "code",
   "execution_count": null,
   "metadata": {
    "colab": {
     "base_uri": "https://localhost:8080/",
     "height": 173
    },
    "id": "CpEuBLkuYkdG",
    "outputId": "e9313cff-6b5a-449c-aeb4-b1d5a2449004"
   },
   "outputs": [],
   "source": [
    "props = {'foo': ee.Number(8).add(88), 'bar': 'hello'}\n",
    "nowhereFeature = ee.Feature(None, props)\n",
    "nowhereFeature"
   ]
  },
  {
   "cell_type": "markdown",
   "metadata": {
    "id": "aMkLFVsZZR6i"
   },
   "source": [
    "# Setting Feature properties"
   ]
  },
  {
   "cell_type": "code",
   "execution_count": null,
   "metadata": {
    "colab": {
     "base_uri": "https://localhost:8080/",
     "height": 257
    },
    "id": "SolLnwWzZHYa",
    "outputId": "cf8d9986-0be0-440b-83c7-e8eaab8379ec"
   },
   "outputs": [],
   "source": [
    "feature = (\n",
    "    ee.Feature(ee.Geometry.Point([-122.22599, 37.17605]))\n",
    "    .set('genus', 'Sequoia')\n",
    "    .set('species', 'sempervirens')\n",
    ")\n",
    "newDict = {'genus': 'Sequoia', 'species': 'sempervirens'}\n",
    "feature = feature.set(newDict)\n",
    "feature"
   ]
  },
  {
   "cell_type": "markdown",
   "metadata": {
    "id": "2Bp2J__iaQNR"
   },
   "source": [
    "## Getting Feature properties"
   ]
  },
  {
   "cell_type": "code",
   "execution_count": null,
   "metadata": {
    "colab": {
     "base_uri": "https://localhost:8080/",
     "height": 68
    },
    "id": "f6L3crtIZzCf",
    "outputId": "6cae093d-cbb2-4472-912a-ef4600c96e88"
   },
   "outputs": [],
   "source": [
    "prop = feature.get('species')\n",
    "prop"
   ]
  },
  {
   "cell_type": "code",
   "execution_count": null,
   "metadata": {
    "colab": {
     "base_uri": "https://localhost:8080/",
     "height": 110
    },
    "id": "QItJKTyCZ8NH",
    "outputId": "fd862b90-3344-4425-c67a-bfc794071182"
   },
   "outputs": [],
   "source": [
    "props = feature.toDictionary()\n",
    "props"
   ]
  },
  {
   "cell_type": "markdown",
   "metadata": {
    "id": "MoRd6G8faUrt"
   },
   "source": [
    "# FeatureCollection"
   ]
  },
  {
   "cell_type": "markdown",
   "metadata": {
    "id": "CR9ZghNMaXt4"
   },
   "source": [
    "## Loading feature collections"
   ]
  },
  {
   "cell_type": "code",
   "execution_count": null,
   "metadata": {
    "colab": {
     "base_uri": "https://localhost:8080/",
     "height": 621,
     "referenced_widgets": [
      "011474ae3c984ba8b3212734fda3883f",
      "0a807b002fc24210bae167d8e1207a2c",
      "b0deec8e12524fe9b860ceac87871f62",
      "2dcb8a23d54b49f0a4643cac4a24fb9e",
      "70c477460ed74837b2e5cb839dc28c73",
      "568d1d4beb5c41f6ab6e378779f8ad1e",
      "eb17a3b806814ea59c900490bc6c3ae7",
      "7557fa5d78774e68b08b9c03cfb5437c",
      "dbe689e770e4443183193f6d8df41d58",
      "51f8f82547274852af34e6f120f36872",
      "aeffce2668cb4a5ca6812545a66b8916",
      "7ba09c728e3841d9ac8e730ccf5c3c2b",
      "32476f4425034369817460f22f45ed7a",
      "83a3e90563da4c7ba3858218ca4d1ee5",
      "a2dc380c81b24f6e9729d9be9c0e99b9",
      "c110337bee6645af85c35328c2fbe91f",
      "873aad714f1848a98b2272f313b88019",
      "d83445c39f3b45a9b0f4467638eef9bf",
      "45de0c49239e48f98b80c4e49959a8f7",
      "9ff72e99678645fba3eac2160aa5a0e8",
      "f2734f2aab7d405695bce29402a8dd2d",
      "d1904745c5d64bb88199ee80d47299ae",
      "5449c09fae904ae0b10882ca097e6771",
      "f059ca9674374d2298107c864b2417cd",
      "b842d0fb502b468ab521ebbb3477698f",
      "a463e35fa328438c9772d2656b6f5533",
      "fd3a49e7b21e400ba1a4c6aeceeacdaa",
      "d8822940522a4e0aa9f910818e756a5a",
      "ca1eedd4f63d416fbc4ce54d2573b7d4",
      "5f62fb5299c74eb3830a6151e19e4240",
      "83ce3490b3b74677bc177e82fe7aed83",
      "3baa0794d9314ecfb2103c71ab96fa30",
      "4f9ac0d9bc314e83a872f805e2a0e791",
      "04625f9eb5e342568fa59f50faa1eca0",
      "b7f72c4755b34809b3ca511b13235964",
      "01c489e5f4d0429ca36dc1799b2000c6",
      "b2a0245fcb2b48179fb10ac2edacea44",
      "3015241ed5624b5aaab24b68e8d61aa6",
      "f938c1be18734b05aa5d0f788751e707",
      "6ba60276404b48658b933d4cf0f771de",
      "730e7640d4324cba81784b7406b7c789",
      "27e115c621144fd9afdb9ccfc9b74146",
      "42f4227a9f6c4837b96f2d3269e63659",
      "9ba5d2c2686a4f2b97fb097a68cd16d6",
      "84f709fd79174bd3b2916d8a1699657b",
      "ae1301f96e3f4751809214a079b269fc",
      "f762aa7ba18d49f1818adc1fb6da07fb",
      "5c2a61cac21c4ea6a9f629467edbcd7f",
      "2c23dc833e9e4b259284efde7c53c5bb",
      "1a29064656824a0298c36a47f8baef00",
      "b1409be933f64b0ba1ae97e52cc02d82",
      "c82c861d64554194a2628a791e908585",
      "cb29af5a47a64adb94e0dc8d62b15737",
      "0ed6302c4c334b61b74243a33cada315",
      "cee4c41a18ac4a839ee2b2a1d95701cb",
      "cd2d7f7731174b7f8b34f11e70722b9f",
      "f289864fbc614e96bc40e1e296b1f4fb",
      "92b176c36a2c4f509aa1a5776722696b",
      "8841677df79d4707ad4a53f3c4dfdec4",
      "0ec70cf20e8b435db9e0a3e9803e7a1d",
      "a35db20cee884ec781e3a8efce6ebc9b",
      "fee9f0f2c7ed48ef87bb13b9570c0763",
      "0f96c188b63f4b509d3311f07be3370c",
      "f219409857b34a4b939a415c767cada3",
      "2887a0060c994067b20c15a173f147f6",
      "5fdfa24f9a904e838584fb7aaed48bc4",
      "697ed995b1764c19a9196763ea931063",
      "eb8d009175114747b2320075bbc207a2",
      "bc5a1a9ca9ca4f8480a827ada8ad519e",
      "78bc9aa655fd4c00944e6a9e23deb847",
      "17ed6a18a4274f94a98a412cad838267",
      "e42cede2dd8c499885927cf885665a09",
      "1be76100b6e847d0932f2174f1b028cb",
      "53f1985f27dc4e3fad7afcb550a528c8",
      "b8566b1d4e6a40a6b2f63cf4ec455368"
     ]
    },
    "id": "rTxSEsCjaJ36",
    "outputId": "5141ee19-f3de-46b8-fd38-ad4bcaa4d243"
   },
   "outputs": [],
   "source": [
    "Map = geemap.Map()\n",
    "fc = ee.FeatureCollection('TIGER/2016/Roads')\n",
    "Map.setCenter(-99.229, 40.413, 5)\n",
    "Map.addLayer(fc, {}, 'US Census Roads')\n",
    "Map"
   ]
  },
  {
   "cell_type": "code",
   "execution_count": null,
   "metadata": {
    "colab": {
     "base_uri": "https://localhost:8080/",
     "height": 68
    },
    "id": "QFHtLN2yacp6",
    "outputId": "b4decf26-a404-49fd-a182-0c20086c484c"
   },
   "outputs": [],
   "source": [
    "fc.limit(3)"
   ]
  },
  {
   "cell_type": "markdown",
   "metadata": {
    "id": "kMH5QiIOa69t"
   },
   "source": [
    "## Creating feature collections"
   ]
  },
  {
   "cell_type": "code",
   "execution_count": null,
   "metadata": {
    "colab": {
     "base_uri": "https://localhost:8080/",
     "height": 17
    },
    "id": "hEeawcA9atG8",
    "outputId": "a150e9c3-8634-4329-c34f-206be7f57725"
   },
   "outputs": [],
   "source": [
    "features = [\n",
    "    ee.Feature(ee.Geometry.Rectangle(30.01, 59.80, 30.59, 60.15), {'name': 'Voronoi'}),\n",
    "    ee.Feature(ee.Geometry.Point(-73.96, 40.781), {'name': 'Thiessen'}),\n",
    "    ee.Feature(ee.Geometry.Point(6.4806, 50.8012), {'name': 'Dirichlet'}),\n",
    "]\n",
    "fromList = ee.FeatureCollection(features)"
   ]
  },
  {
   "cell_type": "markdown",
   "metadata": {
    "id": "wthIr8SreuDb"
   },
   "source": [
    "# Filtering feature collections"
   ]
  },
  {
   "cell_type": "code",
   "execution_count": null,
   "metadata": {
    "colab": {
     "base_uri": "https://localhost:8080/",
     "height": 621,
     "referenced_widgets": [
      "4ba292f8570c4ecba7e6bf375dd2fdad",
      "23a2d3ec75c744918a4e0da26f76a4fe",
      "d2984ad1cfed45dd81e77f730fdeeb07",
      "9dc14e9f79a647e7ae5c21b6c8877acd",
      "f52396c180b047dc8fac01c7fa670ae3",
      "bb39b62ab1eb4cad9847d96b319adb9f",
      "6fe4363ac73540aeacd121502ae97988",
      "3e489bd25445498dab830466bf25d0ba",
      "b8b2e6b7783248fe9f39c8597bfc198d",
      "cbb20354d74444e8bf5e4c5b9c790187",
      "21d4e819170c4cd0b8f55497fb5c58fa",
      "57d0119ad1b24b2da81bbf2a23ee00d0",
      "79725c32f1e541e3916907c33d9278a5",
      "c99be7dcfde74723b1992216975dbae1",
      "6a09f57c7f254a5291ab453a8b068da8",
      "404739be844b459bb2d523178ded3eda",
      "1bc1a888ec954b3780f324804ecb1e69",
      "000ccea5179a4cff88be7d66f58a1932",
      "f96836a6f28b41f085156c457b2f7946",
      "c35aca29f1c343c1ba151bdc23b1f35e",
      "b04145c4e2694f6d9a4b629441f77d03",
      "8ce7e74a07de4d468366527c665d03c9",
      "1cee0982c4e44c759aff60d62fa7566a",
      "8427b3756b9f440488891ec0548f3f01",
      "487d14aca25546b99f06391fedf270e6",
      "d93ba08465434e23a010ba860e11f167",
      "cfe82b602fed47f69426344f0093017c",
      "9775bf51983e4534ae0da064feed3eb5",
      "d85a21f9d8554589ab97115762a28662",
      "764ae9a2079846dfa4146121993bcde7",
      "76a979fcf6d8491abbf002851d2d204c",
      "930947cb6b114d558fe03556bf36460a",
      "a33483215a0545e790f8974eaeab84c8",
      "81995b31fe2242b4ab246b2d382d8557",
      "d195439e308c4a1a82ed3094c71e4c8b",
      "50feb208d291401aa7292a0bae105aae",
      "3a90a9fafe4144fa8ace268daccd864d",
      "776c3d4018ae4e4897166d70e0a2d096",
      "68616d96f9c84e38a643800e6fa97c29",
      "1eb47ca2ec2c41ec98ca613a7e19ae0d",
      "ff2a010f13414a1797d518cfa79f8a66",
      "3e900e0297ab4a45a94f93d622a27dfe",
      "3d35fb76be4442078e154f654d1683e8",
      "7ce2f75fa8b84bf2a0f301669f6b51b9",
      "e9494a0fd5384122b00df3962b9eb6f5",
      "aa03932f83eb40cc8bdeb0738da79337",
      "a661b9c7d7e04ee7b3d5f3a162d62c27",
      "183d5861e2e64b4bb009c21f4d1a8053",
      "f8f5bdc59fdb408d92dbeda94b40af64",
      "a950a50499354a529ef8b43fa12e1403",
      "74bba9715936489ca6a5d84d981408a9",
      "29ecc5caff1643e28d9537a5f4a0b98a",
      "c8a3d01ab3c94b618c38a0de8fe112d5",
      "8ccd3e82f03343308da7ca56d1afb945",
      "d422d6d44bf04d33bc8d267b5bfd086f",
      "f8972af52f43414ba683fd932950273d",
      "3296574d071643cba272c1cf9723e8d7",
      "965ca020e4164919ae735c2bd6729ff7",
      "d51ff350401a48d3961b426e55e07d6b",
      "714c8735234a4abf89f2bc53685e11e5",
      "ff44d6e3f32b4fbdbc8498a6c259dbb9",
      "daa64cacac6549de94f79e8b91a4a20d",
      "103d5e73990843f892b79d3bab98baa4",
      "adb06edcadd445bda360ea66cf7a8715",
      "8f5f080b16f0465189710bdfab4d072e",
      "c8e6f3c2208548009c221fc0a3efbbec",
      "f5fd814a99cc4182bae854d5f0643cb3",
      "56847e64ada6462b87c3148ea9e2901f",
      "8efb7bdd66ce494daa06df184c325447",
      "da6a4c64511b414badedb5163de44cb8",
      "fb33b62caf564a36ad53261e464bbab1",
      "141c9a68b9ef4858ae3fcf7ae4dc6bed",
      "ae4c55e044c44ef29ee857e4b228a048",
      "dcb5e9cc026d4f249703f693c30df4c5",
      "ba4639a1c39e4431ab55328cad2ad218"
     ]
    },
    "id": "8208nRIVbFVe",
    "outputId": "f74b7911-fda1-46f0-e685-5daad7f3453c"
   },
   "outputs": [],
   "source": [
    "Map = geemap.Map()\n",
    "states = ee.FeatureCollection('TIGER/2018/States')\n",
    "feat = states.filter(ee.Filter.eq('NAME', 'California'))\n",
    "Map.addLayer(feat, {}, 'California')\n",
    "Map.centerObject(feat)\n",
    "Map"
   ]
  },
  {
   "cell_type": "code",
   "execution_count": null,
   "metadata": {
    "colab": {
     "base_uri": "https://localhost:8080/",
     "height": 260
    },
    "id": "4QjAziBrfIPj",
    "outputId": "874fbcd2-5144-42a9-91fc-b539a71462a8"
   },
   "outputs": [],
   "source": [
    "california = feat.first()\n",
    "california.toDictionary().getInfo()"
   ]
  },
  {
   "cell_type": "code",
   "execution_count": null,
   "metadata": {
    "colab": {
     "base_uri": "https://localhost:8080/",
     "height": 621,
     "referenced_widgets": [
      "fad5ccc0f54f4bd39af56cd29448595e",
      "88af275b92aa4220b688732b3e5df1f1",
      "9cec6b8107fa4b868eee80e1f0ab5cce",
      "5c2f39fc677e4eaa89b8b06a71f2f92b",
      "f3c49bb4afea4e518843297846050233",
      "94e3680a8aff4495a6b0faa049293c77",
      "a163cd0a80974c05be043f5eb200c206",
      "abcdd95e0e6842b3be3e51073d643cc6",
      "1e31717e0fc140c59f4ffdeffdad6a5d",
      "09d29c00d90246c1942202e583adf76e",
      "aaacafcdcf2143cda4f41a2f2668b5a7",
      "a3cdffea375443d087ef2ee0da8cd85e",
      "03314e07ab474c92b5dfbfbe3fc208a3",
      "59a01c8a92954e8588163c92417aa4d4",
      "2bb7cff3c5ea4fa0a2d1b678ce620a79",
      "ed7085b27d634c6db826331d808b2533",
      "fc34fd666af348bf8e2a6d7caca24c14",
      "761037e0ab0b4fe48ff74522f6ae28bc",
      "acf318ecd1a5450fb07fe0fbabb82c00",
      "9e81a749a4894530b27c1bef0212104f",
      "e3a8294d7d61481fa74737d8db369506",
      "c78afb90d1b84dff830f546f0dfca411",
      "8d0bf7046ef849f4a282ee458b15a913",
      "1c40bc80358d450090439ad0c9d225e8",
      "ae68790758b84a8caf9cc635171d61db",
      "82d6880d10ea4b21a50732ffcd7c5e61",
      "136acbe032724301b14c867ae17d5b39",
      "d0e3497726a94faea5de4f68fd15e53f",
      "d6272211d75742d5bd010ba8d4ea36b4",
      "7a99fac1a2ef40819c71b57521d2a9a7",
      "1357712b35444894b09c16800069c6c7",
      "8239b9d0fd7241e6a6446e6c29058237",
      "4805036220f8483280a8567a0cb315b2",
      "569fb31205a748d0a05f75e27da69273",
      "eb060c1ad670465784f6d80100bb75b9",
      "e019e729d93c40068b770259d6f5e18e",
      "540f4125b9d644d899731020dfebc82b",
      "919de46c5be74541840ade165538c9a5",
      "1ec4b608a30a470fb9d19fe4e224e3a2",
      "2e74e0fb3d994defa29754e5c0a0025f",
      "2452eb6079d94dd7a9ef691fdfdb34c7",
      "8f753592b1264f12924dc9f05ed360d2",
      "2ae03e3d678f463097759a51d9ff7c89",
      "4dd3501ff83b4a0a84ad36e45d403ce2",
      "37d5c8a272ed4ce9bd4dc66090cb93d4",
      "6138f5bd2ac2484d9bb1ddd63253ed3b",
      "ec616a1aa6a744a492f1acef053c36d6",
      "4b5d084f7ec649ff99806d3388af7ba7",
      "531b19eb85fc4146817c7d7149c059cd",
      "44b6fa81ce1c41b68de20702e38be849",
      "6b2d5ec5fc5b4f8cbf765af38df8b247",
      "20694e9c8e584d06a50d994e71e214fd",
      "de42b6a3ee3045e092d4c2a0f05a01f0",
      "c11b7ad7d83a4af1af0a990d0aec5668",
      "9edce2b5d55e44fc8600e4ff7ef9588e",
      "9781844c1f844904b4eab6095b5541e8",
      "6222c7c6d0ae46479b0bd482d6aabe3f",
      "ec55587325a3462e897f168fe0eadea6",
      "c573aadaefea4b42be53715f78bafbbc",
      "44b65fab9e104087a836102dc021b221",
      "2d25650adf164f6da6facb0a609baee5",
      "78d51ea3849c4a468dbaf20a8265ce7a",
      "9aa7514be6e744269ae81c15332092fd",
      "d0efd28f640b45fa9f3c745a7c9ef63a",
      "b0d701353d864f6583a7d1f522cb09ac",
      "240728533c544f288d30bddfdd0fe774",
      "21a823977f9845208e05cbb08036a639",
      "65ec86d05e76419599d11a3c1a68b0f4",
      "d4d6a0b6d1e64c70a26929e505465b4c",
      "919798314cc84f73886943e5499e0a8b",
      "f2e402e1e86347f8bd8eba18427988e5",
      "e1b0ebb78a0642d9a16362aadcf95405",
      "bdac24fc19124cacb14c7e7aa4b9c4d8",
      "dbb39fce4b274ebcba31ce2386c2bb63",
      "a82afc50483046e9bb3cef8e39f08d20",
      "a7ad395700784b1396aa6b70ec3c9989",
      "eb9d940f00bc4dec9eddb3cb16218468",
      "4b28ed199a094e8eb7390ef711e5dd85",
      "d674d1eb40a541d684ab64c5dc9d9c8a",
      "78c2418542a54b0291156a800547a3a6",
      "bf4f8bb372cb49a0bc056e367f4dccb2",
      "aa923d859e194d228528eb692b528d2c",
      "a95a2b561cfc4c6ba57b0c86cc9637f0",
      "d0a2aa6461414009a18b501056b1ea2b",
      "23a367daf3d8493bb844c06bc6a0783c",
      "5e18e82fb3004fb79d9c9051985d7fee",
      "8065559754134747bb4c016b1e925f64",
      "8b72921fb5004d4bb528417dfc236d4d",
      "90a75fc50b8c4103b9a9a025d9f6940d",
      "295494a3cda74bbeb6f92a0955a4c464",
      "e53529e5ff70416bb16399c487f234fd",
      "dfdc87840b834319be05e78c3e0b4536",
      "d4e4acf765764a0abb800abad21bbe63",
      "da85a3600e9b43ddb33b80c75216727d",
      "9a2d8716629b457fad12b310745fda12",
      "c7b4311b016e480098d1928b5f98828a",
      "5629e47297284b5e8e85acabbdb25206",
      "31a919b3ecee49beaf01df8ccada4d0f",
      "c81c196aa9024939bb64ac886924a84e",
      "3024e54fc6234c15be879a4d00f41a03",
      "d3609e5e3c4648af8a73354430c3d5ab",
      "971922582f4e44738940cb7f1ca064dc",
      "bf09de8c05a5411686555b114eb7fa84",
      "bc85e3c4a67c4b959cb92bc44f5cec5a",
      "3e7fc25f3ced4a979bc0d21f06bc6399",
      "de6fe2e782b24bd2b5767c134823f6ff",
      "7592c870e3b644499dc04843b98fde89",
      "887cfab920f4473ca96f287d6392a199",
      "2f4d0251817646c1b2f7547d516b759c",
      "7c3c3cc16739471ca896fbb8acd28450",
      "76be165e35a142cf8921dce574b3c46b",
      "e4c326af19f444feaeb85d610d5e1e67",
      "a51214654a3c4480ac7d2cfe4fb00710",
      "eb277a352db9466d86fc250eef957261",
      "8ee35fb1aa754f84bf2a987340c00752",
      "60ab34b85bb84e02afd7651913f48c2a",
      "66038ce42c1e45609c145ad512567718",
      "8f2af598bec94eb48478b0dc73696681",
      "f03dbe2aa9d84cf5a46737200784d542",
      "3582616f9ec74f00b83ed7ac12871910",
      "a3f39f6522c44e66b11366216702d425"
     ]
    },
    "id": "TcxtvWzKfVn-",
    "outputId": "f275528c-9289-4f26-db2d-7ffac07b49b8"
   },
   "outputs": [],
   "source": [
    "Map = geemap.Map()\n",
    "states = ee.FeatureCollection('TIGER/2018/States')\n",
    "fc = states.filter(ee.Filter.inList('NAME', ['California', 'Oregon', 'Washington']))\n",
    "Map.addLayer(fc, {}, 'West Coast')\n",
    "Map.centerObject(fc)\n",
    "Map"
   ]
  },
  {
   "cell_type": "code",
   "execution_count": null,
   "metadata": {
    "colab": {
     "base_uri": "https://localhost:8080/",
     "height": 621,
     "referenced_widgets": [
      "fad5ccc0f54f4bd39af56cd29448595e",
      "88af275b92aa4220b688732b3e5df1f1",
      "9cec6b8107fa4b868eee80e1f0ab5cce",
      "5c2f39fc677e4eaa89b8b06a71f2f92b",
      "f3c49bb4afea4e518843297846050233",
      "94e3680a8aff4495a6b0faa049293c77",
      "a163cd0a80974c05be043f5eb200c206",
      "abcdd95e0e6842b3be3e51073d643cc6",
      "1e31717e0fc140c59f4ffdeffdad6a5d",
      "09d29c00d90246c1942202e583adf76e",
      "aaacafcdcf2143cda4f41a2f2668b5a7",
      "a3cdffea375443d087ef2ee0da8cd85e",
      "03314e07ab474c92b5dfbfbe3fc208a3",
      "a7ad395700784b1396aa6b70ec3c9989",
      "59a01c8a92954e8588163c92417aa4d4",
      "2bb7cff3c5ea4fa0a2d1b678ce620a79",
      "ed7085b27d634c6db826331d808b2533",
      "fc34fd666af348bf8e2a6d7caca24c14",
      "761037e0ab0b4fe48ff74522f6ae28bc",
      "acf318ecd1a5450fb07fe0fbabb82c00",
      "9e81a749a4894530b27c1bef0212104f",
      "e3a8294d7d61481fa74737d8db369506",
      "c78afb90d1b84dff830f546f0dfca411",
      "8d0bf7046ef849f4a282ee458b15a913",
      "1c40bc80358d450090439ad0c9d225e8",
      "ae68790758b84a8caf9cc635171d61db",
      "82d6880d10ea4b21a50732ffcd7c5e61",
      "136acbe032724301b14c867ae17d5b39",
      "d0e3497726a94faea5de4f68fd15e53f",
      "d6272211d75742d5bd010ba8d4ea36b4",
      "7a99fac1a2ef40819c71b57521d2a9a7",
      "1357712b35444894b09c16800069c6c7",
      "8239b9d0fd7241e6a6446e6c29058237",
      "4805036220f8483280a8567a0cb315b2",
      "569fb31205a748d0a05f75e27da69273",
      "eb060c1ad670465784f6d80100bb75b9",
      "e019e729d93c40068b770259d6f5e18e",
      "540f4125b9d644d899731020dfebc82b",
      "919de46c5be74541840ade165538c9a5",
      "1ec4b608a30a470fb9d19fe4e224e3a2",
      "eb9d940f00bc4dec9eddb3cb16218468",
      "4b28ed199a094e8eb7390ef711e5dd85",
      "d674d1eb40a541d684ab64c5dc9d9c8a",
      "78c2418542a54b0291156a800547a3a6",
      "2ae03e3d678f463097759a51d9ff7c89",
      "4dd3501ff83b4a0a84ad36e45d403ce2",
      "37d5c8a272ed4ce9bd4dc66090cb93d4",
      "6138f5bd2ac2484d9bb1ddd63253ed3b",
      "ec616a1aa6a744a492f1acef053c36d6",
      "bf4f8bb372cb49a0bc056e367f4dccb2",
      "aa923d859e194d228528eb692b528d2c",
      "a95a2b561cfc4c6ba57b0c86cc9637f0",
      "d0a2aa6461414009a18b501056b1ea2b",
      "23a367daf3d8493bb844c06bc6a0783c",
      "5e18e82fb3004fb79d9c9051985d7fee",
      "8065559754134747bb4c016b1e925f64",
      "8b72921fb5004d4bb528417dfc236d4d",
      "90a75fc50b8c4103b9a9a025d9f6940d",
      "295494a3cda74bbeb6f92a0955a4c464",
      "e53529e5ff70416bb16399c487f234fd",
      "dfdc87840b834319be05e78c3e0b4536",
      "d4e4acf765764a0abb800abad21bbe63",
      "da85a3600e9b43ddb33b80c75216727d",
      "9a2d8716629b457fad12b310745fda12",
      "c7b4311b016e480098d1928b5f98828a",
      "5629e47297284b5e8e85acabbdb25206",
      "31a919b3ecee49beaf01df8ccada4d0f",
      "c81c196aa9024939bb64ac886924a84e",
      "3024e54fc6234c15be879a4d00f41a03",
      "d3609e5e3c4648af8a73354430c3d5ab",
      "971922582f4e44738940cb7f1ca064dc",
      "bf09de8c05a5411686555b114eb7fa84",
      "bc85e3c4a67c4b959cb92bc44f5cec5a",
      "3e7fc25f3ced4a979bc0d21f06bc6399",
      "de6fe2e782b24bd2b5767c134823f6ff",
      "7592c870e3b644499dc04843b98fde89",
      "887cfab920f4473ca96f287d6392a199",
      "2f4d0251817646c1b2f7547d516b759c",
      "7c3c3cc16739471ca896fbb8acd28450",
      "76be165e35a142cf8921dce574b3c46b",
      "e4c326af19f444feaeb85d610d5e1e67",
      "a51214654a3c4480ac7d2cfe4fb00710",
      "eb277a352db9466d86fc250eef957261",
      "8ee35fb1aa754f84bf2a987340c00752",
      "60ab34b85bb84e02afd7651913f48c2a",
      "66038ce42c1e45609c145ad512567718",
      "8f2af598bec94eb48478b0dc73696681",
      "f03dbe2aa9d84cf5a46737200784d542",
      "3582616f9ec74f00b83ed7ac12871910",
      "a3f39f6522c44e66b11366216702d425"
     ]
    },
    "id": "8Lx3K2u5fgw3",
    "outputId": "058c1fcd-180b-4f19-d3aa-17631b6a79e7"
   },
   "outputs": [],
   "source": [
    "region = Map.user_roi\n",
    "if region is None:\n",
    "  region = ee.Geometry.BBox(-88.40, 29.88, -77.90, 35.39)\n",
    "\n",
    "fc = ee.FeatureCollection('TIGER/2018/States').filterBounds(region)\n",
    "Map.addLayer(fc, {}, 'Southeastern U.S.')\n",
    "Map.centerObject(fc)\n",
    "Map"
   ]
  },
  {
   "cell_type": "markdown",
   "metadata": {
    "id": "qhA31NEUgUg7"
   },
   "source": [
    "# Visualizaing feature collections"
   ]
  },
  {
   "cell_type": "code",
   "execution_count": null,
   "metadata": {
    "colab": {
     "base_uri": "https://localhost:8080/",
     "height": 621,
     "referenced_widgets": [
      "19824013d29343939e341f57519061c3",
      "af50d2c499cc4e8ab44ae7badca92791",
      "1ffeb3d7231f4ddaa05b1e0d0a21eb97",
      "1d0cd286487e41008dd4668684b335b2",
      "626a709f8d034c09a82e9beb172da86f",
      "178e94412739485b86f8aee0e3c6bbd5",
      "c286dce2f46841b0aa77da76cd64345f",
      "6fc723b098544f8da7154707ebc8d251",
      "11e797b69d344b4ab4f5b2679d66a99a",
      "64ec50752ef64a5c90ad9fce3622379c",
      "33ef33d6c3564b18a68fdd0c992e8be8",
      "6241b1125542461599285b4cc8c55ad8",
      "4964724c41914d6d936e7d41ce3bc90d",
      "2b3807721694479d8291e1d088c94876",
      "681a3047461b43d381bd46b264b092f5",
      "e8763ecb4f9b47d0ace05d682223bf2f",
      "e99a6433c83044e4bad8b6dcf2d721d2",
      "bd34942a5217490c8628abe3cbb2888c",
      "14a40c580b7342d4be7275ad0d36f5c2",
      "269f27c93f7a4a3b958b3ba0c059eeb5",
      "56e0b3dca8434743944f6c235c516751",
      "66506ca0dbf641a8b44d8701f2af60d1",
      "767e373430d74c489ee0e1d70dfac2c7",
      "61a1dc31c0724742ab8e28a910476b4a",
      "9a2343af847b469a89d1a7d16a326d00",
      "3f237bdd55a84287b2303c57e4eeaccc",
      "70e2df73942546b5a22e72345280a1a7",
      "3709e215113344838844aefc2daba0bc",
      "b2045b4ab6c2471399ea830ecd9fe4eb",
      "60c80febe4e941819fbe03832920ab0f",
      "69b6c661f6c94834aaadf8660f18b17f",
      "e7a4905d99e6434d879cd99bddd77ef7",
      "8e70133d532d4acf97fd103054256f3f",
      "94398fd482e641dcbe81d123efece847",
      "e0dcbc8b0464483f847a729504109fa4",
      "457cc995d2854c93b51619eb15463533",
      "b9cc0f2344814939b097e96d3840ff41",
      "3af1de0019004aa7a815ecb0b7198c40",
      "07facbbfe6c84b15a9e8d67bdd148666",
      "d9d9e72e0aca4b0e94764f6cc5f11a8c",
      "28e82e19bd294c9ab1aebd48b78dbc79",
      "261cd8df11914743a3b13292b9f393b9",
      "1b9520f997ab42d084579389f8f50613",
      "119f2442917340c196e44001cc3d0bb3",
      "ea7d8502db834619977ca5b71ad7e3b2",
      "191c12589b1a4ae28b6313e9b081e860",
      "1e8a82d167f54f40a98284e2f37c999a",
      "4c49eb9cfb0747769219578609cf04c8",
      "bfc01d9e4a074bf9a2b661e6bd2e2c4e",
      "f3573c2c7ee148a3a3e21230fbb9b34b",
      "fe6e336a04f44313ab3bc71e51a43f2d",
      "bd9ce9ab22014a369905ada04b03ed66",
      "bc3bb69788264701b16ab991e609d28d",
      "821daa141ff04007b1c960b7cf5d5ee0",
      "05c51f4053904c3da9e5c1bb52621c3e",
      "ef65ada8954340998abea45504c88ce0",
      "582fc562549440d49c1d9546b4ad58b8",
      "4c93ebff14cf408695014e7d0d680c4c",
      "74335a90674f4f508fbf269e50164413",
      "1e3eb788d5314e008f406f5558a26548",
      "686e18dee105425eaa707aabcb912bc3",
      "3d292d69408f49739f349c153a3cca5c",
      "b64d6fcd36cf4dd691a485dd1a88f4de",
      "c6a91c55c21b474f80fed313a2d84e8f",
      "3e433f4e0a254eb58feaee8579cc67c6",
      "5fc2c65ea6594a18977dbd8625eec820",
      "e6543c5b01c94ad18c57a2236d2dc5fe",
      "ed903eef8e4d4332b44421d56c4ef53b",
      "eb0ff7194f474c48a59378a5e936045c",
      "2a118e3276164d3c92a1ce49dca60b72",
      "b425f55150b1453a8a4651ecd15d803c",
      "2af4332149b148dd807155f60451eedf",
      "1cfdaaa614a24bb081bd4bcae3061ba9",
      "6a1104ab91fc418e9a1f5e8588558f42",
      "ababeaa2d0624eadbc64ed7fc0b7e8f5"
     ]
    },
    "id": "4Jxh4cMsgFyS",
    "outputId": "0d6e88d6-8365-46fd-ba89-19a979a08ac4"
   },
   "outputs": [],
   "source": [
    "Map = geemap.Map(center=[40, -100], zoom=4)\n",
    "states = ee.FeatureCollection('TIGER/2018/States')\n",
    "Map.addLayer(states, {}, \"US States\")\n",
    "Map"
   ]
  },
  {
   "cell_type": "code",
   "execution_count": null,
   "metadata": {
    "colab": {
     "base_uri": "https://localhost:8080/",
     "height": 621,
     "referenced_widgets": [
      "3ef108a3621f4103a83bad320524aa5e",
      "368d5e96fac04950bc378b950231aa0d",
      "29eb432b25364a9f812b2280e50d7338",
      "a35eee322e5249b8bda2cf7618e753e4",
      "c57d96ce8247441b91ac45af91bb1266",
      "5fc62a6f3f4e40fda3e8d8d9794ec30e",
      "b7e33ecac809480586eb27c1201421da",
      "b8207dec14a14d998a86ac9dcd104846",
      "a7f7456f73884d4b9afef642e88fc3fc",
      "415bb318f41b4f1387c68ab9723afc6f",
      "772c765971f34a159887c3324aca65dd",
      "40323e51a552451499a41271d51b05d6",
      "59dd25186f5747179a8b9dca0657fcdd",
      "6936211d4f49411891d1f254c75b5bb9",
      "eceb5f77d31748709d7dfcd324e573b1",
      "361c1154d85240589593403b2509cd4d",
      "155f8ac38a294d118e04b5c46885ccc0",
      "87800059f93f45b59ef085b235a6bc07",
      "224b4362263149f2adbe6f0e94ca1512",
      "fc44d944c9914ed585a09c3cadadabc4",
      "e70aa591077540d2907b5aeecc5d21d2",
      "7970cd7b4da24f86962bbc548d497f8a",
      "03cba6146e79457f83884d233659ef6f",
      "7e305b18b93048edacfb4c8f42663ebe",
      "535388fce9f84924b084e7283fab9b9f",
      "d019111b26a34684b71ab97b9038f5fc",
      "cdb3b90bb91b498581e1d2d5fce6d424",
      "4adc4f9b775d444682b2e46cb198b3c3",
      "34ec44ef0b89448a9f69b7362ab3aff4",
      "be65d29f4cf049c3ba9337bda6722d18",
      "4a045336d165400781f69a25569526b8",
      "77ebc41a0da54a0c8536952def5d3603",
      "968ab3a5b7e44d34bf3556daa72064a8",
      "fef25a13d75b47e9ad4d5a1d81345fac",
      "d1753b5a0db14d00a08ee474cb21738d",
      "6788d6afefb1421b9ade051a10319dd5",
      "cfd9dd42eb4847e6bf1732ff65772240",
      "edbfe56cd50846b4bb25274a5b177d79",
      "762a2a08fb4e4b4f849781919800b418",
      "c8f808e0bad94bd998839d478606f960",
      "f81daa7688094c0eaa3322c612be79c3",
      "7bf2c714ee5c43b6ba9b15ae0ea609d2",
      "fb58dcad991f4e0cb1cc24072f048b6d",
      "10cd1ca82e094b74a16233ea8293290b",
      "8f383afd6d7c4b62b07ef6872c8b5520",
      "c02a7975dec843709270f15730052beb",
      "c51d4851a8ad4dc1a2113bdb6fec1c31",
      "6a8cc44bc44141c692709ae5b00f5dec",
      "99df280166e74285bde85745a58d8eed",
      "c94fb46a733e4033a88eb17955531c2a",
      "84499426d25645a9ae7b1ddb835152ce",
      "4b31f499a1cb48fbbc024685dba59b1d",
      "229aa665bb3848cd8fe6c1edf0c9d477",
      "88e4ff4e5016488b8799a90f400d5624",
      "f11aef7997f24a7bb851ad4dc6d8f231",
      "0445ac1ebbc04e0b9fbb860473a1b01f",
      "6b8acf0d68224d569e7f94c684645bfa",
      "8c86e5b3086d4cd185e5edcc3c264de4",
      "3b870154d7fd4b87b82eaaa9848bc179",
      "83cb270020214ce8b16abfd18523dcdc",
      "011873158f954221baa020f61b152370",
      "1fb6b05cc2a14fa6a65bfa14a6fa3636",
      "3650dafafacc4064961a13cab6444195",
      "72f48ea7559e4a4d8be15c0aa362ecae",
      "cd8ba8210c6c4484ae1ce90b636a9fd9",
      "092709d45c3b4ae187a386020e3886fb",
      "eabe85b359c148d19385f3d92e3e37e0",
      "c1befc29a11c4754889493565995344a",
      "ce82498359e4462d9aad00f32bfa94ad",
      "d491128a8a2d471eb972b4ab0f7f1048",
      "7fb89daed70543a1b726a9195c3b3b57",
      "655ca2f61bed4841b395d24cc43e834d",
      "c3bbd34e1a194a8aae5490ddeed1906a",
      "238ebd29758e4dab87f11589584e5754",
      "2bfa647f74f6485da1be4f605fef5ce3"
     ]
    },
    "id": "zLmsH4DxglS6",
    "outputId": "f70eff80-62ec-47d1-948c-ea19ac38ef8b"
   },
   "outputs": [],
   "source": [
    "Map = geemap.Map(center=[40, -100], zoom=4)\n",
    "states = ee.FeatureCollection(\"TIGER/2018/States\")\n",
    "image = ee.Image().paint(states, 0, 2)\n",
    "Map.addLayer(image, {'palette': 'red'}, \"US States\")\n",
    "Map"
   ]
  },
  {
   "cell_type": "code",
   "execution_count": null,
   "metadata": {
    "colab": {
     "base_uri": "https://localhost:8080/",
     "height": 621,
     "referenced_widgets": [
      "0afc0f29dae7432ea62a83156ffa1766",
      "084c470ca3d243978e398896f28f192b",
      "484ee433085b4aeebc88d04babed3da0",
      "b7e1864e1eb64c03ab9ce1c6233186e2",
      "e70df3a139ae46b4a7a5e0314038025a",
      "b78dc280317b4e8783a9a6968c182046",
      "e858f149afa0492fb2194c61aba0d471",
      "79053c333a594a05aa1b8387e36d6e78",
      "516ea58320de4f37860f41108ff3f322",
      "b1c764e66bb4402ea43da27d33ab4afa",
      "4cfdd72444664cf1926753ba55a28f17",
      "d6e8f0b175944960a402a1a7370902ec",
      "fcb679f8d2494fb3bef0ffdaf744bdfa",
      "d7533b7a15af4c228a905669a3996086",
      "087df2d2230344b6a2d60fd02c8316b9",
      "6f70c70eca8c45d19b64621d461b06bb",
      "da6b81178d9b4d048ac390d34334b160",
      "b6b184d248cf4ef9967074a9f259876e",
      "a25bc5b6c435414084d74e052e0ce542",
      "3ec3c7078f2446c5b10e3b01b8ae74dd",
      "016d7720a8e24dc2bf712210fdce1679",
      "c31a906de2194c928433225a1be90584",
      "7251deb6c52243159693db8c6965ec52",
      "6a199982e480408698b2b7b62f12787c",
      "a17005c899c44db6bfac40a032676570",
      "35a0ff8dabb74063bd9f69fc6be720f2",
      "83d359560ec24cb384e23103967c391c",
      "729b9fb675e24fc2b1ee194d6fbeeccc",
      "d9353c6eba3941938798925a0c0f4715",
      "7b2a07680a0e463cac06b0b80be9728d",
      "ee3da3892fd9442fa03ca5ebd4401366",
      "ecf61d7664134127b83bdeed9e62c25b",
      "932defcc52224d13b0887bcadb7b060d",
      "a7ee432a978544d8b7db4e8ef32a8c6a",
      "c5657c1a6933488db341f85e86da7cd9",
      "5f4c412290094bd990f55576c06d8bba",
      "663e5406c8fe4347988b2fad678ccd86",
      "f92f4bb82d4d4898b3d83bf3fddb34b8",
      "6264ee9b58e846efa74ef89801ba29de",
      "0f1206edee4f4fedba767ed987796201",
      "d82fbf13bee2431183b9a66b9ce5563a",
      "2160c4d1ea2c4a97b7598d877180eb9a",
      "73b3c74081e144ee81a8c3502f4ee9d8",
      "90812dc95b6244569f195f26caa84e92",
      "bc77bd8df09d4198ab5ea0458f9a077c",
      "33f7f347a03443af91f31657965b6228",
      "c8450a1d77044049a6dde7c1eb805813",
      "fad1cfc77ca64e709e6ab51ab23b75db",
      "c2a77d51c7f74563a728880834165e5f",
      "b0bf522710c440478c45acf0b72c21e6",
      "4b42fd0fec504a399a1d0f827cc3a984",
      "c62fa49009ca4bf482843cf1d4902ae4",
      "94079531439349cd93feb2859f8b801e",
      "ae1dfd50f7104d6698fd63ffe79e282b",
      "4f4100e87d1344f1b618a55c27e8d05c",
      "87949201f841478a91202dcdc68be8d6",
      "af03d3c83b4f431db958f821d33d06b6",
      "15e0ccec773d479e96d0262f1562b7a9",
      "4bdb1db76ce1413884f3d1c6d877279c",
      "5ae6de8575264496a2c5ba8ef88a7cdb",
      "3cc85be6fb1947f89b252c04caa646c2",
      "355cc00069ee47a78d7fe10517d8bca7",
      "72d25e773dd344ceaa9ecc6b36e9ae88",
      "a476be9f62574a0b9f06997655831737",
      "21835cf28efc4495b4da7251b37441f7",
      "4aea0f69f1b94a49bb9243fed5277acd",
      "9f071ccc60d845c4af2693b34c761897",
      "df0ddb952aff478fa359e8584c82e6bf",
      "39f543be424d4b339e247541cf984f58",
      "5b324398bdd34ce3a74981ba60753c82",
      "23be2a2c71af41e48799f2f4978151c5",
      "289ea180bd1e44edb895d25ffd9a78c2",
      "b1da107882204bd69d858d1e684bd3b9",
      "0cc490ba5aca471abb65f871ab3bfe7b",
      "31b85574653041aea857c909dbcc85ce"
     ]
    },
    "id": "W15AXh17hG4D",
    "outputId": "ce888cb8-dccc-452f-ccdf-3c1f8ad3f756"
   },
   "outputs": [],
   "source": [
    "Map = geemap.Map(center=[40, -100], zoom=4)\n",
    "states = ee.FeatureCollection(\"TIGER/2018/States\")\n",
    "style = {'color': '0000ffff', 'width': 2, 'lineType': 'solid', 'fillColor': 'FF000080'}\n",
    "Map.addLayer(states.style(**style), {}, \"US States\")\n",
    "Map"
   ]
  },
  {
   "cell_type": "code",
   "execution_count": null,
   "metadata": {
    "colab": {
     "base_uri": "https://localhost:8080/",
     "height": 621,
     "referenced_widgets": [
      "5f9a0cb26bfe4813900b1d280f51d195",
      "02dcf6b1f99d4a72ab5208da986d1483",
      "91978ba151044f2eaa37b6ebc1e6791d",
      "373d7c4beebe4a4eb1691c03ea665fa1",
      "dd99db285aff4e47b88551c2e6a7c2ef",
      "b4ddf78a9b6d4637b9948c9aa8b30bad",
      "941aad2f267449398f772209e5decbb2",
      "90de3aaeebbc42a6a565fde9982ae02e",
      "9eb333bf02e0436485470afc1760e923",
      "cbc3185a858349719b59f30df6f99f7e",
      "ba384316e3d34668b73ded0f7ab90a3f",
      "8ae7d74e0cca44efaedf0a97fd17941b",
      "e90f7a302b7443048d9ce01eaaab4515",
      "65688b95b43640fdacbee4b66c61c337",
      "7737a3560fca4639867c47f14bf13880",
      "cab82dd72e7d4cb19fe120c389fe6243",
      "b4dcb53e072c467aa910920ca2c26e66",
      "4ec38f93b2184af0973668a55d3a0382",
      "1ab4bbcb7504439c8346968b114bce4e",
      "6f8131081c754ce3ab80dcf5b56f5d2c",
      "5e60ab801be1401abf9b2c6ce4bce187",
      "09f0d60232c24f3ea92bda385c909a7e",
      "b67de79cfffd4612a9dcf40e5ba19efb",
      "4022e8dec087456abd511bd63296de14",
      "6fa642361e1a4e38a9aaaed4d221c005",
      "73220207f85741fd974df6ca48b37166",
      "ef40eda1bb054f11b3cbf214513b1fdf",
      "5abea0f614d04946ad6e7fbe45214f8f",
      "309f9435070e471a85527e1ecba2de71",
      "df33cc32d6b1476bb56a971325901086",
      "015126e1cd5e4b9c9700677a85fc7641",
      "de342041e5e4453c86a16e8497e56f7a",
      "4878eadd55a444d2a67e33f1dddc2d52",
      "b000bbfee6e6453a8faab1ccd3a4c04e",
      "4bfdd20fdc354916bdb9ef1a34c95d09",
      "f8296b3f1971460e8f9b91aa3449c4ef",
      "89c4a68171d2415d8d1fae9970da1c30",
      "90c1bc74213e4893861d52b2989bb71e",
      "da5e6e39f8504f5594d5ec701105a35c",
      "2994bef0b62b4463ba353f9f926b668b",
      "4b1061abc7314da3a34e2969aca1a498",
      "b932438e035e493980162b4362f5e112",
      "b9c32995d5ab44918b616d82d69de934",
      "41e2f8de973b478b8d22c151943bc943",
      "8e5e6d5ba69e48328ccb96f68710227c",
      "3412c90059e24d218f9e879d13c48af2",
      "e6dde305680041a7912d9bf79bf150b9",
      "cd551aaa1eb24df9b521fa8330f30e53",
      "a95045f3526140928e3e86d7c35f23ac",
      "9480f34f45c344268a2e9e8778469516",
      "502d0db13c4e49a28e38328832e5f04c",
      "8d01f9c21f604b65a2b6f606dac54a77",
      "d486520217d648ac80dca675aa765545",
      "427bd195e8544d07a616ed23c76af59a",
      "ea8f7f53327e484ba08c5a5490e0e16a",
      "5582d29194894a428e5b1626f9f8a4e4",
      "b53f7472c5e64eb08844754e29b08f69",
      "695663c4a31447c4ad6bb0231d3635b1",
      "c3463f7fc467409c8b4704a63eae1fc6",
      "ef100a664e2d492d937898cc12954ea4",
      "2f96b4d1e21b476088c2e1364905a2a8",
      "0e93590071c7405cadb1230ef22e4463",
      "cf346f6d50064d579cabafeecb4900d1",
      "f3f6d93de2534af6b265cc76d0543b78",
      "ecc0c2d55ef14bacacfaae8ef3c5d390",
      "dc89b58b96cb4342865664b4e98fae19",
      "fe127ccbc7b44300af60ddaa7ff294b3",
      "50066a485de440ecbd9ca5600cb45797",
      "05f05fa17a6e48f6b58a2119262677ce",
      "1881068ab26a4153bd4875d90c869b9c",
      "82c72b2904954ef3b346cd60b8193232",
      "d78eb2f42d2f438f857fa362f826bf50",
      "fc52f4898bea46289da45875a790c7e2",
      "c7b5ac4158e74bc38ba6967ac5743bdf",
      "7216eb6c22bc4129a62567e54ff9ab12"
     ]
    },
    "id": "KM2zg2ZRheVp",
    "outputId": "f04b4d97-3eb5-4739-dfe6-64f89b1b00d4"
   },
   "outputs": [],
   "source": [
    "Map = geemap.Map(center=[40, -100], zoom=4)\n",
    "states = ee.FeatureCollection(\"TIGER/2018/States\")\n",
    "vis_params = {\n",
    "    'color': '000000',\n",
    "    'colorOpacity': 1,\n",
    "    'pointSize': 3,\n",
    "    'pointShape': 'circle',\n",
    "    'width': 2,\n",
    "    'lineType': 'solid',\n",
    "    'fillColorOpacity': 0.66,\n",
    "}\n",
    "palette = ['006633', 'E5FFCC', '662A00', 'D8D8D8', 'F5F5F5']\n",
    "Map.add_styled_vector(\n",
    "    states, column=\"NAME\", palette=palette, layer_name=\"Styled vector\", **vis_params\n",
    ")\n",
    "Map"
   ]
  },
  {
   "cell_type": "markdown",
   "metadata": {
    "id": "CBNfeGLohri6"
   },
   "source": [
    "# Styling by attribute"
   ]
  },
  {
   "cell_type": "code",
   "execution_count": null,
   "metadata": {
    "colab": {
     "base_uri": "https://localhost:8080/",
     "height": 17
    },
    "id": "7Pn98cSEhkig",
    "outputId": "c1aea1d9-06dd-4ecc-afff-b681cf4d4396"
   },
   "outputs": [],
   "source": [
    "Map = geemap.Map(center=[28.00142, -81.7424], zoom=13)\n",
    "Map.add_basemap('HYBRID')"
   ]
  },
  {
   "cell_type": "code",
   "execution_count": null,
   "metadata": {
    "colab": {
     "base_uri": "https://localhost:8080/",
     "height": 17
    },
    "id": "6nLRc4NSh9BG",
    "outputId": "81bf21e9-da6f-4ddd-df6c-80358b2761ae"
   },
   "outputs": [],
   "source": [
    "types = [\n",
    "    \"Freshwater Forested/Shrub Wetland\",\n",
    "    \"Freshwater Emergent Wetland\",\n",
    "    \"Freshwater Pond\",\n",
    "    \"Estuarine and Marine Wetland\",\n",
    "    \"Riverine\",\n",
    "    \"Lake\",\n",
    "    \"Estuarine and Marine Deepwater\",\n",
    "    \"Other\",\n",
    "]\n",
    "\n",
    "colors = [\n",
    "    \"#008837\",\n",
    "    \"#7FC31C\",\n",
    "    \"#688CC0\",\n",
    "    \"#66C2A5\",\n",
    "    \"#0190BF\",\n",
    "    \"#13007C\",\n",
    "    \"#007C88\",\n",
    "    \"#B28653\",\n",
    "]\n",
    "\n",
    "fillColor = [c + \"A8\" for c in colors]"
   ]
  },
  {
   "cell_type": "code",
   "execution_count": null,
   "metadata": {
    "colab": {
     "base_uri": "https://localhost:8080/",
     "height": 17
    },
    "id": "hh7DFFOniCuJ",
    "outputId": "4044b91b-7151-4252-d422-90d384078ad1"
   },
   "outputs": [],
   "source": [
    "fc = ee.FeatureCollection(\"projects/sat-io/open-datasets/NWI/wetlands/FL_Wetlands\")\n",
    "styled_fc = geemap.ee_vector_style(\n",
    "    fc, column='WETLAND_TY', labels=types, fillColor=fillColor, color='00000000'\n",
    ")"
   ]
  },
  {
   "cell_type": "code",
   "execution_count": null,
   "metadata": {
    "colab": {
     "base_uri": "https://localhost:8080/",
     "height": 621,
     "referenced_widgets": [
      "2e8c04fe2673478f9092710edbd7fb33",
      "bafefb369b3b48358b071285226cc2c3",
      "5225daf8a3354c19aa58087953a50e09",
      "238e7306cbad434ab6d45f63fad49be1",
      "917ec0cae49841ef84f0397351e852bb",
      "c7523a2e46c84ed3896cd6ebdc9c1e96",
      "304e5e88ef9b404e9d6251ca59c09ee8",
      "55582c608d2a49288a021f8ebe24e6e0",
      "d08246e09576472fbffb4bbf0b10421f",
      "a1bdc2f62a32494389f938556e657943",
      "2728e38f539d4f3cadc8b90a09dfde67",
      "65e98687b7f5451f9759c5d24e3bf5ee",
      "242788fb74324b39953e8281696aca6f",
      "556f842abf2e438fb1876751158fe014",
      "1776f37ecc4444649142f1603b89c368",
      "cdeef02e147d4744add17a1e21a7931a",
      "a1af1e00a5904513b48373f94d2a231d",
      "a57a20ac05924565b8d4fd3e074c7c10",
      "568522c200da4b979a52c6c6a77a089c",
      "6ab52a3590a94a0593ff009148d2c4cf",
      "63e8993782ec4ceea17bf58ef67ebed8",
      "8abf930f16a546cb82885a882e3716d8",
      "d7669aa282a940b39192ddc5453b6cb5",
      "e48a250b84c041c1857747152cad9280",
      "7b6730609c0a48aaaa4c6e0e33db61e7",
      "18baf5b211264c78925c39c3b381ad7e",
      "6663a94443274a748766d1dbca348103",
      "3117215ad4764bae83345140264b1f03",
      "26a23613d8df45b8b05756f88a988ae9",
      "d0a2c39544eb40769a247d11770572e2",
      "00e3a457f49e4baa9260de3d027e42e3",
      "6a7bd28e254a447ebae15705e91d92b8",
      "816483d6035241adbf8c566536168c4c",
      "f68b4b419c93414b95be79c8bf2b18d5",
      "78e4619331e34aadb323e9f80faecb73",
      "f1ba1c5032554695a0f4b198b67ecb5b",
      "27290e12e496419f9022a124efca7383",
      "b21b856b8b8e4ccea9533cfc2491330d",
      "a27f980ec6b5400184f2c93dd829fc06",
      "6773765bb7654bb3b04f85321f515ba2",
      "9a5f6cb581d44e72b3c8f1bed7401435",
      "0846f1f7dfc54497a05efcb1a8b777bd",
      "56e84d15270b4587aa33c65365c14e4a",
      "50c022ea9a914f828628957d8c8a4fec",
      "5e434ca08b484029a3d68b388de86c8e",
      "e58363f7b4e4421a8666bba587bd5930",
      "bf4d61a01c0b4c0ba6b8a5dce37c4ea7",
      "ebf3466adbd24ad3874424a84b9a63d9",
      "ee3e8f12ce2e411691957e9728565859",
      "fb33ea0cf26d469a827416ad997443f1",
      "4c56fcd2adff43f8aaabba644e335f7b",
      "4388affc7f4e4b6e8311ce3700ae2808",
      "bc86ae43cd4a4109b742964a880d36dc",
      "766bff58e9474fa792f507108045c61b",
      "fd1d9623bf83471a83cf9c05cab5ce9f",
      "07fcbafc0f8f4a69a633b575b4d0a64e",
      "6563363faeb848b3a9853da4bf9dcf20",
      "8e41f5583e7c4fc5b939fbbc180523e7",
      "a79c3cf4ad6b464eae959924ea37ea20",
      "e00b5b3166704ac78775c0f3a7fcc52e",
      "8a485ed44cd242808320413abadd3d15",
      "d26d912287b44639a626283bf5b179fa",
      "e413773463c447fca55364ff461ad154",
      "3bbd1a7d251048dbacd51e66e22472a8",
      "b8a4ee64b43c4ea496ae84ad9ce10cf9",
      "b36f7f2fa20648a088092b31b8977d65",
      "1ae2621fd1554ffeac2233525b4e62b6",
      "1b909ef7295542cc901a97f255287637",
      "537fcddb4742436fbe81cec18095c0ed",
      "d7c1c696ef714d3289bf8cce4c964ba1",
      "c2baa81e4c0e424fabb111c01d8664d1",
      "987ffc0042d747ecb06e17bb9e748ee7",
      "74df2323a6cc43f38f76d140c2035dc6",
      "7477cc9d16f748319cac6d8beecb5241",
      "567bbabd00774329bf81557f4f0452e4",
      "b53e1c506a3c4398958b4e8ba4d64740",
      "49dd00e1b0594d82acf2177736455efd",
      "d31bf9572a054e3da4e6a41f25c1b106",
      "b27a865ec5534f848989495df8837ed9",
      "814067ee0a734265acd7f8b96dff7bcd",
      "e289d58b5f6f4bf78492425bcc3fa67d",
      "21349c4dfb9d44f1a470ca0f344ba748",
      "327f0c346d0948dcb6704417ea95656d",
      "3746f8e2113f418d8d4010f909bbd806",
      "3a98de83ca464e5ca997cc511593a808",
      "7996fc08c84447a699a9227772386144",
      "553b7babed5747339d323ce058ed09e1",
      "1b7903f5e5194618aa5230575fc61b87",
      "94cc0233b75849e4814693f1047792fa",
      "0e7d7b4eb1794984884e0612410c47cc",
      "69257d64c48343e2ac4ed618a3830b6d",
      "09a0b3a2a98d426e923a6a146344cc98",
      "62fae7589022442bbf42137f8e32a74a",
      "1a16a96a78bd4ebdb8fbad895947dda0",
      "699567eb58794d12866f6a8c87e9649e",
      "b308294bfde54760889197139199ab38",
      "877f7fcda16440f994293bca1745419b",
      "af72b5dd88474c15a487b904e3f2e609",
      "0754ec2d1b0f472eaa62167845b9a4ce",
      "ec77b36796b244cb9315de22de857899",
      "1fa9360f217449088389c1706b119736",
      "e06de3a13dd94b5583029c7ff7069640",
      "3c55693fce5549a88754ec5b6b6ac327",
      "9632ff35cf8c47baaea7062844c7a720",
      "7f407cfed9254c8b817e0ef791b9b2f1",
      "5c8f7b9908ef43359fcd2a21b01369e2",
      "61d8cc97019b478f8d2c769369534ca1"
     ]
    },
    "id": "P1RiBRGAiN9S",
    "outputId": "e2aa6e38-dbaf-44e9-a417-661d84f6a304"
   },
   "outputs": [],
   "source": [
    "Map.addLayer(styled_fc, {}, 'NWI')\n",
    "Map.add_legend(title='Wetland Type', labels=types, colors=colors)\n",
    "Map"
   ]
  },
  {
   "cell_type": "code",
   "execution_count": null,
   "metadata": {
    "colab": {
     "base_uri": "https://localhost:8080/",
     "height": 17
    },
    "id": "kNQAkyjNiP0g",
    "outputId": "87d7f39c-dba8-4ca8-c5d5-204f1043390e"
   },
   "outputs": [],
   "source": [
    "fuels = [\n",
    "    'Coal',\n",
    "    'Oil',\n",
    "    'Gas',\n",
    "    'Hydro',\n",
    "    'Nuclear',\n",
    "    'Solar',\n",
    "    'Waste',\n",
    "    'Wind',\n",
    "    'Geothermal',\n",
    "    'Biomass',\n",
    "]\n",
    "colors = [\n",
    "    '000000',\n",
    "    '593704',\n",
    "    'BC80BD',\n",
    "    '0565A6',\n",
    "    'E31A1C',\n",
    "    'FF7F00',\n",
    "    '6A3D9A',\n",
    "    '5CA2D1',\n",
    "    'FDBF6F',\n",
    "    '229A00',\n",
    "]"
   ]
  },
  {
   "cell_type": "code",
   "execution_count": null,
   "metadata": {
    "colab": {
     "base_uri": "https://localhost:8080/",
     "height": 17
    },
    "id": "j8g2v7aNiW3V",
    "outputId": "b78b6b4a-43bc-4fa5-80f7-8e35efbd8569"
   },
   "outputs": [],
   "source": [
    "fc = ee.FeatureCollection(\"WRI/GPPD/power_plants\").filter(\n",
    "    ee.Filter.inList('fuel1', fuels)\n",
    ")\n",
    "styled_fc = geemap.ee_vector_style(fc, column=\"fuel1\", labels=fuels, color=colors)"
   ]
  },
  {
   "cell_type": "code",
   "execution_count": null,
   "metadata": {
    "colab": {
     "base_uri": "https://localhost:8080/",
     "height": 621,
     "referenced_widgets": [
      "e258560a4d8c4689bf5175f7209af37e",
      "49fd9ff3b76e4db69fe6cddfd9295e4d",
      "2d95cf975f28470b8ddb38d64ebc3ca0",
      "91f4744001b044b18581f55c6cee4dd1",
      "8386ded4a43647a993499e0b4d26288a",
      "d2daf9ec308e4979b99fcbf29449968b",
      "96aee1bbf7a54c69b4a60c513d27bd45",
      "7cb7f332048a4fa19c6c055709549629",
      "b74043ccdef14fa79739c343cdf31538",
      "36f13ca623204a548e274936bebbbf3f",
      "32d38bb59f36437da0b5d1c9099ecc78",
      "7d379ef73d164b49aedb818cdf6fe4e5",
      "bc524899f59849d2a7b84306dd4a7a3f",
      "a37ab641c0104e42ba21f2d5bb796d7d",
      "803267d7ff8b475dbe9d25d48ecdeb0e",
      "ecae1bf878224c8d86daf02b824be496",
      "e9dec41315f54b418b9b34e54b83f097",
      "e0b8dd64dbd9410cb6a3b244cb81d846",
      "f7cba17566934ae9bbbe9fafc5431b44",
      "6344ce05eeb44d11b1819e8fb75bbb8e",
      "a825de2e68b8476d9e1c1e35518e646c",
      "33b73860995f4cb78291776a4118fe2e",
      "65e0eb90275a415cad81d8985eb8d608",
      "4b2f3b97a0b34ad7a3044546496eba2d",
      "69d78b49ee7d4223be4f6c444d8bf495",
      "941a1b864666424d953002d3656c0f4e",
      "fee83f3e128b45a7ad0e04079119fba1",
      "a8754130d48c4344b42cfa3d7f18d229",
      "acccc35d386e4b2bbeeb90912c21f205",
      "eb2a1bebecf841dab18a9a555d12989a",
      "26ecc1df99094945ab170aebb1a842a0",
      "ac2898362b2f406492607faaf89a7388",
      "73272b6057724751b161705ea80ea459",
      "d28016c662b74b1c8fa10775d4d93e30",
      "d68a6a349c294039baafb2a994500e05",
      "8a11cc0061204c419808047b0ab60d1b",
      "2381fe1d98a2450793588330064eef3e",
      "905e69a4e066477eb42c538e9bab16ae",
      "457d41368e014198b07a69aa5b250ffe",
      "cdd79f8e4532410aa219fd1508d9a03c",
      "f1de431d266f4c09a1d097ba97e95c51",
      "8d58927d3abd4701b5389ff5a7c04aca",
      "f0526f6ce1634665abd5896c352acbb4",
      "0746df28cbee45f2bcc8d7106515db76",
      "4ebf0c8f9a8a4b62b4736fc35fe0e4bd",
      "80132023f4d5468cad48733743761c32",
      "272eb47f6696476ea9d20c1510895156",
      "195c70ac52bc41ff87dfd49c38f1dec3",
      "4a6e72e4a31b487f8e315d413b57f057",
      "e477595dfc234e6c948686729733b495",
      "034d31f0a0434bb7b8174c9f9a685486",
      "3a98f0ec2379485d97a65a8699d06d04",
      "bf9712dfca7f42c2957313c6d518780d",
      "5648e9655ae946fb8b80138cf9902098",
      "e13aff32b5564a7989afbc6773f8e7a5",
      "f3a5c46bae254592b329925028ee3847",
      "a199e07f34784d03ab02dcb09bcd4ec4",
      "a855f27d5d1143a4b6b7b9cc837d9584",
      "c79a6daf9cc042eab26eb577e43e4e98",
      "519e4f7e3dc44af9af1ce3eb69472372",
      "02c4c7cc23a9455b8df0041cdd1955bb",
      "cbe81de74bfe4d13859f684c44bcd709",
      "985f3974d05e429f957e43bb74f173ef",
      "f71afb9fbfcb4430bd0537cb9168ffc8",
      "130afe958e0c43a1b66c08836bdec0cd",
      "397fbbc4a58a4f52884a4e0a20f3ae46",
      "f5a44aeb6ee44ac28804e15995c95538",
      "d2e4dca629274b02bb86f6613d6736e6",
      "cabbea93941e467a90f3ebf962b4b435",
      "66e4792e4d3644b68179f8111938b6b5",
      "5055484e65234d0189793cf2bebe6280",
      "3ee0ba25fd5647afa72897244ec1b257",
      "d3e9ca38e8cc4a049c31fea4dccd04e9",
      "6466a9222f474d6a8733646841356c42",
      "17adbf61ddd146058758158f22794594",
      "9019132133884efaa0f6d1b2c45404dd",
      "81100c66998b45639a3ade98e8216d29",
      "8d3e26db88f44a8ab8b8b169b42430c4",
      "211ca1e98e4942a5b8738709cf786b2a",
      "a6095498aecf42d783e63567c2780817",
      "f87aa295995549019c08d94c847a403f",
      "f6d5e7dc9ae741e28b154732b8cb72f7",
      "ef348460cb954a9ba7890a6a3ce42233",
      "a9308a90b9d14172a3c0428359e5a1dc",
      "bcbb1865fd0140ab83a15ce73fefa704",
      "29b3907c48094b28a1b17a2db7bcbb0c",
      "661c271555744f3292c09f68634b1fc5",
      "473c2f028d584ad8b0a0b6c2af8033af",
      "8d560f11c7254329a09bd7711b53b29d",
      "414b9b5431f04d17bfa16f1ad60ff17e",
      "177d66044835451980e183b50baf0a91",
      "dbb8843f975e4ffabc953d37b72c5809"
     ]
    },
    "id": "xgN0TTI7iYxF",
    "outputId": "159aa9d3-7da8-4b44-d283-8df6ec8e7cf2"
   },
   "outputs": [],
   "source": [
    "Map = geemap.Map(center=[40, -100], zoom=4)\n",
    "Map.addLayer(styled_fc, {}, 'Power Plants')\n",
    "Map.add_legend(title=\"Power Plant Fuel Type\", labels=fuels, colors=colors)\n",
    "Map"
   ]
  },
  {
   "cell_type": "code",
   "execution_count": null,
   "metadata": {
    "colab": {
     "base_uri": "https://localhost:8080/",
     "height": 17
    },
    "id": "fQKkoqTjiaIA",
    "outputId": "5f795639-1b8f-4872-b735-a1f689472cff"
   },
   "outputs": [],
   "source": [
    "types = ['I', 'U', 'S', 'M', 'C', 'O']\n",
    "labels = ['Interstate', 'U.S.', 'State recognized', 'Common Name', 'County', 'Other']\n",
    "colors = ['E31A1C', 'FF7F00', '6A3D9A', '000000', 'FDBF6F', '229A00']\n",
    "width = [8, 5, 4, 2, 1, 1]"
   ]
  },
  {
   "cell_type": "code",
   "execution_count": null,
   "metadata": {
    "colab": {
     "base_uri": "https://localhost:8080/",
     "height": 17
    },
    "id": "uSXcLj9_ifqv",
    "outputId": "7ca4cf9e-6d54-48a9-8095-3314214e1db2"
   },
   "outputs": [],
   "source": [
    "fc = ee.FeatureCollection('TIGER/2016/Roads')\n",
    "styled_fc = geemap.ee_vector_style(\n",
    "    fc, column='rttyp', labels=types, color=colors, width=width\n",
    ")"
   ]
  },
  {
   "cell_type": "code",
   "execution_count": null,
   "metadata": {
    "colab": {
     "base_uri": "https://localhost:8080/",
     "height": 621,
     "referenced_widgets": [
      "b54ccfd4901844539d6934f3de00ddb2",
      "7526dc3155f84c76a27cf82929ad8de3",
      "286a009e124d4f1da9e68f92f70c3b63",
      "a134d442354d4be9bfa8fe2a4680a767",
      "a055e45221c7493d9439643b1f3103e1",
      "0183c6031bf04be0be727e27263e9b9d",
      "b94d18ec522847b89c9ab377fe45f0d3",
      "3ee30ea53a974b58bece88b6098fd0c3",
      "3c7ed12fcb9c48319eece04e5a7b3c84",
      "90dce8bfd2424da4b45b72b2d173dc4c",
      "4af7f728e274422f8433175e94ad1403",
      "4a0e41a882224812828aa3a71c6af495",
      "1a143d77ddba47ed9292eb3a4b06137a",
      "79053b5004104245a8c5590710dbd5cb",
      "2c949716df5540cb90cf196010809ffa",
      "4bbf8c87802d431ca77e1efe89fbf6d5",
      "096d9947efb54879b6ad0f3d7290c21a",
      "ecb6bd9c6da6404598a98306f568a2f7",
      "d351a30e95c5469bb2d0e024af79286a",
      "9d011cd29589450386b74d8d3b2d2172",
      "80a8b9e36c4f41828c16a3bce46d4c73",
      "f609b3982bb54aa599b8991554235fb2",
      "b0e0abaaaeae402cad1381724b9d35e0",
      "5815a1c8c03045aa888a09488fb6f239",
      "a7dd03517d41443dbababe4d456ab414",
      "81c1fd7aca144c4eb44fa54741943a6b",
      "d558a628dca54812ad3ef72503241714",
      "764b16dda1f14e1a979f2c1cb9994985",
      "89cfb67e55234f5da4a84fb16ba924ab",
      "e0638b880fca4cefa2fdf2575ce4748e",
      "66bdba0d789a4255ad670b8e8bded4a2",
      "a15a51ed1e46410c983108fb770c439c",
      "ccaf39c4d3c940d6b48c74d249c66fa6",
      "be00449ab8a241fb957595b2cae2b1cc",
      "7ce98734b5184ca2a68b4f0ba8ac63dd",
      "75d06ce9b5bb4e32a37435d9c872bbfb",
      "20825befd0a44d3ebafdcdc7531495e9",
      "b9ce8136a6ed4fcdada7b610914822e3",
      "bb97a07c9c5e4b7295b4780704e8c3f1",
      "493ddfe2a0a64a90b20ee6eb13cd103e",
      "2c3dbdb65cef4d2aaf2f46c69da48238",
      "b6d36cccb460408c9a9d054dc938725a",
      "bb4f49a570ee4642abcea475f1a44612",
      "2306709b458a4a349f1ac81c760ece89",
      "407dabdeebb7427dae01d105f420f206",
      "0aa5f03e038c4fb1b2a467f84e53b6da",
      "f1f8c66ba00e4e849080c085a39cd686",
      "613b1f78079c421cbe2ba44dfdc20c8c",
      "c690b435d3b143479b2a6f8bf1da0294",
      "d4ceaf3d55da4e29979f6ee7d5883673",
      "f9f402cc63ec451ea823d9e4a7d1efad",
      "2601083fa3ea4757bd26a586ffb9fc95",
      "a76f8d0839d643b298511734a3cb1663",
      "83c200f81c81435da3c9967fbb2e3c6e",
      "8b708b6a1e9e466d8a4d31056fcb29f0",
      "f03e3ea48e7c4742a0d4845afe4810ff",
      "881bef96873042ac92fc01315f0f61cb",
      "f5891e13a34a4863adce80d554d13b9e",
      "7ce7b16c75d74a8d8eef479296b1f57d",
      "b27bb48b1afa4d1f95e9f37fbd93b8c6",
      "2993f620427047848edf3fa5d8cedb7d",
      "ebc208b923854534b46b7df1bc75b72d",
      "b11982fc941143e2bee07f32eb7f347e",
      "2866e19ae9bc41f7a6ae85051b4d6dae",
      "b41dbfd424504fb89b5abd817b84eae4",
      "40c68ac7d7fd4d1eb5c4bfb2d2d094f6",
      "87a14ba57e3546c2883a4c97f4ea6317",
      "3fa0fb6ccab04bff8974b531a65b7fea",
      "fe9577ace15c40479c827ce9d05bea49",
      "1029aee3d4294daeb9e40e2224eaabce",
      "13519bf86cea4388be1029432aa6d3cb",
      "0578fc556ab54a7fb3d098a7f1dc38bd",
      "d5f45f4e70a44aa98c344e3589790b4b",
      "eb535a0ad8864b1d9fb3a64ad02ab683",
      "9ede3afa148c4d93a38ebfd03232899a",
      "75a8028399ce447684ffc9f0f12debd5",
      "bb6731285a3a474d89b80f1c3b5da762",
      "61274da4908241dcbbb6930c63606ddd",
      "2762dec4d92f4e578a98b478434edb4a",
      "6d17e6228ff249c4bfba2596e5b7b7d2",
      "cc7633fac2e94747bb24a79d5074959d",
      "2bee510f11ae4ba28a34bd4a5ac61a4b",
      "e85781f27fbf40ea983d6f7d6cff53e2",
      "0478f0c99228490aa6359b2e7278d1e4",
      "cbcb21b7423d40b0ade7e7d276da4e4f",
      "382504d9308346dc8e3299816745bb0a",
      "3fd20bb77ce648d7a02d23b526904312",
      "ee974bebc7a64dc5ae910328279bd5d2",
      "4a978f4e65ad4e53baf90a3143ebec46",
      "26dc1cf1f9394bb28251d831673f9c56",
      "c6caae5a26f243f9b5ced0ab5abcca1d",
      "a772eb9fb0ed4a8291f3d00bc36f6405",
      "d6f915eca9e64123bf352447e7239909",
      "20cded21f4c84960b7ff24ad25edde83",
      "9eac05e7b235443fa208395e47823584",
      "8cf678f407b9430a826b44bce4826d21",
      "e18f3b84c5ab461c9073f245977532b8",
      "e5f9a45ac908414b9d52548bf0a1bf4a",
      "2d09790e22f54c3384fa2d8186068d04",
      "07ad93710eab48178b6e9461e611532d",
      "4fd3acff39e14cd68114cf892ac2566f",
      "a98cb77f36e4450b8d1680fbd18da233",
      "5ef70a8c4dff4aedb101dfe9bbeb0fb9",
      "5eb361edf4d142cdbb9f06b48b329beb",
      "9b5d584388c54232900363a452e79a4d",
      "86690feb53bd4b14980c3db4c013f69e",
      "5081693c5d4b4356a953c07a83e2e4c3",
      "1ae4731c58cd4af7be018f4d16d6643d",
      "389c76789afe487995723b137e5a3310",
      "e39c7caf81e447068f374176f7426c7e",
      "420cea41d3ea4682849bc126bd5ebba4",
      "4539bd4700aa4e58948ee0234d4ecd9e",
      "2d64a7ef8c2d41578a6d8ed8ef0d5fb6",
      "6402264d123a4472b87129d6594e4021",
      "7d2ca3a526b74aad83131ea0008a3bf4",
      "e0d0b7e85b1f40f3b4b27a680a34dc0f",
      "9df7026a32584d10bed13750463c3640",
      "ce513b28c0d546bab5ff565aa9b7e060",
      "e9b70f2a2cef4f46ad64dfeeaf681acd",
      "ca93cea7e0224b6396da2ef6316ffe66",
      "4b5838fca825469c89155eb63985807b",
      "eccfe6b3e9f244fab5c2c63a6f68552c",
      "273098aed4a047c7a77bc803f72c467e",
      "3740abf203c74c88aeb9ca8b5b28a574",
      "b2d8a9686e8d483c9c3e1ec4b1802aba",
      "c585b39f0cad44af86ac36c8d3b587f4",
      "58db05311a4e44378f43135c7e327ade",
      "40233d5c50684179879e6f343b322f01",
      "4caa9a9bff4b4d4983d15208a766a514",
      "6ac5c3d4ecf34ccf83bda9249baa5a50",
      "bb4e305283ee40a6937cfafbec22739a",
      "1e0202b79d814a619d5eeafa4efd14b1",
      "bef4bac7e2c746809bc1b2b3e1d0b42f",
      "c3da173f8f7d4e5fb313d0a2f0e0c720",
      "fc4693dfb0e948d9a0b965d0d171ac60",
      "d51d7cc26e5f4e3fa8d35d9f29b9b483",
      "e4073d3cc0044c319ccc048961e91076",
      "a9320d2e6404430e90e46144e46456ea"
     ]
    },
    "id": "AlYVzUz0ihoy",
    "outputId": "18a81108-1e4f-48ca-fe45-c3540c1ef7ec"
   },
   "outputs": [],
   "source": [
    "Map = geemap.Map(center=[40.7424, -73.9724], zoom=13)\n",
    "Map.addLayer(styled_fc, {}, 'Census Roads')\n",
    "Map.add_legend(title='Route Type', labels=labels, colors=colors)\n",
    "Map"
   ]
  },
  {
   "cell_type": "markdown",
   "metadata": {
    "id": "4fhQ6LzgisRZ"
   },
   "source": [
    "# Earth Engine Data Catalog"
   ]
  },
  {
   "cell_type": "markdown",
   "metadata": {
    "id": "SZiFLMnJiw-o"
   },
   "source": [
    "## Searching for datasets"
   ]
  },
  {
   "cell_type": "code",
   "execution_count": null,
   "metadata": {
    "colab": {
     "base_uri": "https://localhost:8080/",
     "height": 17
    },
    "id": "eQKduEWRilKN",
    "outputId": "61dd82ff-dad4-4da6-c030-e0d6903e9606"
   },
   "outputs": [],
   "source": [
    "dataset_xyz = ee.Image('USGS/SRTMGL1_003')\n",
    "Map.addLayer(dataset_xyz, {}, 'USGS/SRTMGL1_003')"
   ]
  },
  {
   "cell_type": "code",
   "execution_count": null,
   "metadata": {
    "colab": {
     "base_uri": "https://localhost:8080/",
     "height": 621,
     "referenced_widgets": [
      "28bfe3bc1b8f46138b12d3cccd75c8c7",
      "bf2e4fdc3cdc40c59c2fe6f32bdb3fee",
      "46f831189bff47c08523b25848ae12ae",
      "7388745b6fb94840a7e95c83348b181d",
      "ef8a467612ff45dfa479b01870b3e1b3",
      "b8850ecf913a485d9fcfb15ea2cb360c",
      "ff6532ead570408d86d28d8da6347156",
      "882cc93b64df48ab93e559b83210e55f",
      "5f15de3cfa6043da9caee3ac12c44ba6",
      "ffead175916d4c08a8787cbbb5207984",
      "693d3f53775b496a91c939b7f0677580",
      "aeb3303ad4764443845e54527e96ac05",
      "c0ecb4fd653547338c1ec5b375015aac",
      "3a576cf7f0cc45a4b5aabcbc11cafe47",
      "1d34772de3654913a34d40cc8a2fcd0e",
      "d1818e5b393b45e1a65365bc4604b039",
      "16384c616d714f99abfb175bac37f769",
      "3532ed98e2c646aa8350196978a2f932",
      "435a62e1c096490b98a10be1d4833aa9",
      "e0752e03a458494b8ebc11a0ac75b5fd",
      "5e40f0e4a7884bf19d69793676617d60",
      "bc6e5c56d4b14140aefef598ca85589e",
      "d7846bda2e56448194f170561ad18214",
      "ecaef98f604e47699969c5fd063e1316",
      "f54f5a91df1346d0afe43969b23b0059",
      "fc3faa95aa074854a74e1ba9eec18a73",
      "9917e1c9a0164e9d93eb362ba2b6cd51",
      "6e77be44d6644ade843a8f7ea9130576",
      "26a659f672474557b95dca743fb0fc87",
      "2863123787174e419a1bbbf2a10d081a",
      "4a5b5867443b4233ac3c4f8f352bedc3",
      "fa2662f14c764c8c8667aa1a311bdf4e",
      "f77a0be10e044e699d9437699dcc3324",
      "e1a76dd18311498ea04600f3ca74ce64",
      "d43bfca8183a447988337e0523b29f53",
      "5b02ddbd491445ef9d5a43a5d973f062",
      "eb6e7b6d0b384b43af6e700271495bb3",
      "dd5ade234ddd49518589667eeb581aa3",
      "cd725994f4154ca28cd11f425a502890",
      "ce298cbd3298421389bf834936655b5d",
      "b8412ab1c9b84701bbba8fb5848e5143",
      "6f87983f0b934680a4676b40b1e38c6b",
      "817be1057d8541d49f121e42148bf863",
      "b59f482b75824b2a8a6dcac7a4e64fce",
      "9392e2795c8747c88a88f14bca2d3045",
      "a3986a13ab454ca7a17979baf2b0ba86",
      "18aafb42da10403bb25bd6283ffc0852",
      "e8d7cce9fdfb4669b2dbabeb11824660",
      "584daf8c37b04f178b92b20b7e80060e",
      "f455e613290c4b8e91b0fe257e69f1a0",
      "3cc94301bd114067b62d5babe9a5a20c",
      "72f5b906a45b4e8fafb557af42c0478a",
      "b8ce83b4ecb3495088fb8ad44df5684e",
      "70e0a8510db646b4ac0159a2ab08a3d1",
      "9c7eb92a8a3546bdb898b07ce8528c3f",
      "a10ec4c2da484b2bbe7cf759642907eb",
      "2a85223643e9437591ed952dddc2dce8",
      "99852f2d157747a5ab65c5400b5295d7",
      "512d8f5bc7d64c6f88947cb05aee7bc3",
      "9d8ba893033d40c8a57dae0489dc80be",
      "92690425a9914cb8949da8b3369fe4b1",
      "384a9defeb734552897854a5b8baf2da",
      "0c7ad156560c474e86d68c92bf2c94e6",
      "86f54db7c7c94322bb17000abd4ebf9c",
      "bf3e04e247374df1bc51a50fbe111b6e",
      "7e795f0a986b46939e9c30e10cc9ab54",
      "7a3d1f5ade9a469cb2a469e7fee74c54",
      "4be80887a1704167abcb420dce94a479",
      "e70b5c92d4104dc7967f30dad1a92b71",
      "3d22a57e0f704f12b5c07d85dca1c405",
      "002b8b4b4d614b99b50c06645a89140d",
      "6d377d482ed4402095db52bb702c726c",
      "165407f2d4ff49a4aff99783bfcffb9b",
      "3cf83e387f9e4259a05d929d1cde475e",
      "4ebc913a15b74a75b076f26a121579c6"
     ]
    },
    "id": "i4LsTUmli-eI",
    "outputId": "6da00f83-265c-4c15-ecbd-33e7c261c7c6"
   },
   "outputs": [],
   "source": [
    "Map = geemap.Map()\n",
    "dem = ee.Image('USGS/SRTMGL1_003')\n",
    "vis_params = {\n",
    "    'min': 0,\n",
    "    'max': 4000,\n",
    "    'palette': ['006633', 'E5FFCC', '662A00', 'D8D8D8', 'F5F5F5'],\n",
    "}\n",
    "Map.addLayer(dem, vis_params, 'SRTM DEM')\n",
    "Map"
   ]
  },
  {
   "cell_type": "markdown",
   "metadata": {
    "id": "sOEaVCeqjDHz"
   },
   "source": [
    "## Using the datasets module"
   ]
  },
  {
   "cell_type": "code",
   "execution_count": null,
   "metadata": {
    "colab": {
     "base_uri": "https://localhost:8080/",
     "height": 17
    },
    "id": "_9VL8acEjALk",
    "outputId": "8e542c82-1b82-4b7f-f70a-8baca15b8790"
   },
   "outputs": [],
   "source": [
    "from geemap.datasets import DATA"
   ]
  },
  {
   "cell_type": "code",
   "execution_count": null,
   "metadata": {
    "colab": {
     "base_uri": "https://localhost:8080/",
     "height": 621,
     "referenced_widgets": [
      "9bbff352716f4dbe9f7539ab511defb5",
      "a2314a3f5aa34e749a40d473ac16a839",
      "ea1e25407f7b44b7a6c7a13c9d9316c0",
      "de7481574c2847479f320f0d24728bbf",
      "f26ef6bf0e5448f4a24f2f7e3bba7f44",
      "ebde43ad04f04f72a20bf31701116a29",
      "5af2352244874f028c7e4e842ac2211e",
      "7276d5e9fb234d54b68387823ee0ebf9",
      "d1c6b03f142f44268911fe19995d7dc0",
      "f6d4744c95314390b888003b08330314",
      "c3af0d91039244e3988b26e1aaa9a9bc",
      "c04f195bce5e4f2ba8fdc3dd97b8cb7d",
      "919bc0b38b0d4dccab3c69a107275b4b",
      "c5b2070550244f159bf140bf2a8ceb76",
      "9fe02930a2bb4e7e888655523808699c",
      "88c3a16c88a84875ab5c49055111a3e5",
      "23eb7c970f6c4ead909b82c18db09cff",
      "d7cb524f4a9e4a688668c0d946755448",
      "0f11dd20ffe84c31b716d300a9780c19",
      "019032b20c7142808e70458602061e2a",
      "60b4eb30d2ac4bd6a6338d65cb33cf45",
      "2b00891c749d432e82b52f826955fd14",
      "0e899afda92f4da883e118312f924020",
      "521e240fe6a444b09234ccbe0430fb53",
      "bf8e06021a43429aa80b30c2b2e361a1",
      "54ccab466f1d4f169543508977431e88",
      "bc62478d46884252bb6501ed88f13847",
      "ed9dbd7d577449da9fb36d7f180f622a",
      "cc79e45192204835b1a5a00061807293",
      "b5725df6b22b41e48fe0d191754019cb",
      "b8183c1525a5460f91013fadb2a87442",
      "a1f6dffe17a741e09a7ad29689c41209",
      "97e51b18dc854823888a70533dbfb94a",
      "053ec33cbd974013ac78ced0393fc740",
      "759f6c0e6f474a0fa16b8b49b0901294",
      "5e5583beeba6417c95b6593fc1e5f8ed",
      "9f23523c80f54d39b42265872ad381da",
      "7b2b6c5851be4e279c142b20587162da",
      "4e1bb1dc48d345d88f9c2e74f04aaef5",
      "c6fc868097d74cdcbd500b10827703f3",
      "1231babf1640492b84025553ef6bda27",
      "d5dcb1f1f15c4dfba1991fdabb6f733a",
      "cc6a52358d66448490091465d8d11024",
      "d32a1c90d6f5442da07900197e5820fd",
      "7387da7c2a5c403fb6f8178cc5fa12a8",
      "b2b8e1b6badb4ce09936c50af8cd1754",
      "9e70470e04974cbba13082c9dd4d5917",
      "a92cd06e2a524bbd9779031e2292b71c",
      "d768f62d077446a1b5815298ddd6a4bb",
      "a6367af8be6c41a3a72f04937054e73a",
      "39bfc2e1167945159ada05ce165da729",
      "d1ed2b325ce0487a95923ba614adbe5f",
      "3f03c3a226784375a14697bb3ef31efa",
      "7c383a5df809497fbfce9ab8dffc6791",
      "963994c3e8604408a5849c1517f1a607",
      "a7cb1d30f3004965a58b7804491f3d46",
      "381aec36f6684efa8a6487063519e5db",
      "5450f26aed304b3482cc67aaa26f3fa9",
      "6977ba2126ff43e1a81ba06a594112a6",
      "ee3798ec00e8473984fa9887953d8caa",
      "f2849c2a2e394d158e7a4e5054acadc8",
      "33c63352d43d4e2f96094515d7892b9a",
      "9c3fb46c4808416aa9a70f01aab3a735",
      "87d817a2094d4875bf0cc4d6b0a1cb68",
      "7db98870f333482d8bb39f207448cdd0",
      "a0466788848e4becb9b0b94d07fad196",
      "c272fbb6eb254b16900c327601a21fd2",
      "4d61edcece80451c9c289b7a29f6b6cf",
      "5f317f0cb7ea4b3f9f7f7d45988b5d4f",
      "64c1aecd70e34091825b69517618cd7d",
      "02cf113a4869445ba5ea92a829fcf857",
      "c17b98e3632f4db49a86a18a43129574",
      "f3c92ca57cc54f33b4faf5ac71796779",
      "b5b22d5197fd42cab5ef39f8ab73b53b",
      "63f2441f93f948ef9281a64dd59f3eaf"
     ]
    },
    "id": "2BgyxXLkjJ1S",
    "outputId": "9b54d6dc-2417-4c30-934e-8d5e60a82670"
   },
   "outputs": [],
   "source": [
    "Map = geemap.Map(center=[40, -100], zoom=4)\n",
    "dataset = ee.Image(DATA.USGS_GAP_CONUS_2011)\n",
    "Map.addLayer(dataset, {}, 'GAP CONUS')\n",
    "Map"
   ]
  },
  {
   "cell_type": "code",
   "execution_count": null,
   "metadata": {
    "colab": {
     "base_uri": "https://localhost:8080/",
     "height": 719,
     "referenced_widgets": [
      "04b16972de3c4de186e73a6a458c450c",
      "ded9b2cf26e84f219d0cda368768bab5",
      "f83b73c5937449768426de7acc8f361e"
     ]
    },
    "id": "xeq53SK9jPUp",
    "outputId": "7e1b8d89-f839-4aab-912a-4a6e2956e5b0"
   },
   "outputs": [],
   "source": [
    "from geemap.datasets import get_metadata\n",
    "\n",
    "get_metadata(DATA.USGS_GAP_CONUS_2011)"
   ]
  },
  {
   "cell_type": "markdown",
   "metadata": {
    "id": "mvMS8UF-jeNq"
   },
   "source": [
    "# Getting image metadata"
   ]
  },
  {
   "cell_type": "code",
   "execution_count": null,
   "metadata": {
    "colab": {
     "base_uri": "https://localhost:8080/",
     "height": 17
    },
    "id": "KsjduPvmjbkx",
    "outputId": "3a556446-fba5-479c-9211-812eca54d686"
   },
   "outputs": [],
   "source": [
    "image = ee.Image('LANDSAT/LC09/C02/T1_L2/LC09_044034_20220503')"
   ]
  },
  {
   "cell_type": "code",
   "execution_count": null,
   "metadata": {
    "colab": {
     "base_uri": "https://localhost:8080/",
     "height": 68
    },
    "id": "xCpuF33wjiJ3",
    "outputId": "c27176de-5770-4489-ca03-6e77a5cee57f"
   },
   "outputs": [],
   "source": [
    "image.bandNames()"
   ]
  },
  {
   "cell_type": "code",
   "execution_count": null,
   "metadata": {
    "colab": {
     "base_uri": "https://localhost:8080/",
     "height": 131
    },
    "id": "3ZBGYt0Kjj8Z",
    "outputId": "9dd0dc48-fd79-4921-81d6-6f6b736fc5fe"
   },
   "outputs": [],
   "source": [
    "image.select('SR_B1').projection()"
   ]
  },
  {
   "cell_type": "code",
   "execution_count": null,
   "metadata": {
    "colab": {
     "base_uri": "https://localhost:8080/",
     "height": 68
    },
    "id": "u1lQpreBjm1T",
    "outputId": "95094e9c-4ecd-43ad-8097-cdaa921107e2"
   },
   "outputs": [],
   "source": [
    "image.select('SR_B1').projection().nominalScale()"
   ]
  },
  {
   "cell_type": "code",
   "execution_count": null,
   "metadata": {
    "colab": {
     "base_uri": "https://localhost:8080/",
     "height": 647
    },
    "id": "j3VHDN3qjqgQ",
    "outputId": "1cc8a8bf-120a-462b-bd0d-865de3144848"
   },
   "outputs": [],
   "source": [
    "image.propertyNames()"
   ]
  },
  {
   "cell_type": "code",
   "execution_count": null,
   "metadata": {
    "colab": {
     "base_uri": "https://localhost:8080/",
     "height": 68
    },
    "id": "YlVFI2TzjtN5",
    "outputId": "b7a57927-ac15-4428-970e-c36d181ae861"
   },
   "outputs": [],
   "source": [
    "image.get('CLOUD_COVER')"
   ]
  },
  {
   "cell_type": "code",
   "execution_count": null,
   "metadata": {
    "colab": {
     "base_uri": "https://localhost:8080/",
     "height": 68
    },
    "id": "Z1Z2CjBQjyg0",
    "outputId": "426305c6-7d9c-4fb9-dd0d-32ed59a16649"
   },
   "outputs": [],
   "source": [
    "image.get('DATE_ACQUIRED')"
   ]
  },
  {
   "cell_type": "code",
   "execution_count": null,
   "metadata": {
    "colab": {
     "base_uri": "https://localhost:8080/",
     "height": 68
    },
    "id": "qqqYGF69j0p5",
    "outputId": "35aac385-2768-484d-e319-ee0d9f3ccf95"
   },
   "outputs": [],
   "source": [
    "image.get('system:time_start')"
   ]
  },
  {
   "cell_type": "code",
   "execution_count": null,
   "metadata": {
    "colab": {
     "base_uri": "https://localhost:8080/",
     "height": 68
    },
    "id": "ICEtXOIWj3m6",
    "outputId": "6bf91acb-4ce3-4ac3-bbab-a4c1f2ff6a9c"
   },
   "outputs": [],
   "source": [
    "date = ee.Date(image.get('system:time_start'))\n",
    "date.format('YYYY-MM-dd')"
   ]
  },
  {
   "cell_type": "code",
   "execution_count": null,
   "metadata": {
    "colab": {
     "base_uri": "https://localhost:8080/",
     "height": 647
    },
    "id": "ZIYYNog6kFYa",
    "outputId": "35539ccc-f9da-4032-d4f9-747af955b60c"
   },
   "outputs": [],
   "source": [
    "image.toDictionary()"
   ]
  },
  {
   "cell_type": "code",
   "execution_count": null,
   "metadata": {
    "colab": {
     "base_uri": "https://localhost:8080/",
     "height": 68
    },
    "id": "l5lTEyYAkJN4",
    "outputId": "11d4d952-ee09-402a-823e-7439a20c9d4c"
   },
   "outputs": [],
   "source": [
    "props = geemap.image_props(image)\n",
    "props"
   ]
  },
  {
   "cell_type": "markdown",
   "metadata": {
    "id": "egmPwnU4kQs-"
   },
   "source": [
    "# Calculating descriptive statistics"
   ]
  },
  {
   "cell_type": "code",
   "execution_count": null,
   "metadata": {
    "colab": {
     "base_uri": "https://localhost:8080/",
     "height": 68
    },
    "id": "gGmvHvH3kNUx",
    "outputId": "9c20c361-e079-40c8-e075-c34ca491adf1"
   },
   "outputs": [],
   "source": [
    "image = ee.Image('LANDSAT/LC09/C02/T1_L2/LC09_044034_20220503')\n",
    "geemap.image_min_value(image)"
   ]
  },
  {
   "cell_type": "code",
   "execution_count": null,
   "metadata": {
    "colab": {
     "base_uri": "https://localhost:8080/",
     "height": 68
    },
    "id": "4knFgaapkZey",
    "outputId": "794b01f3-2a05-48a8-cbbd-62a40780557f"
   },
   "outputs": [],
   "source": [
    "geemap.image_max_value(image)"
   ]
  },
  {
   "cell_type": "code",
   "execution_count": null,
   "metadata": {
    "colab": {
     "base_uri": "https://localhost:8080/",
     "height": 68
    },
    "id": "XwFLEegElSuF",
    "outputId": "6911188c-44df-40b2-ffe8-c066056cd163"
   },
   "outputs": [],
   "source": [
    "geemap.image_mean_value(image)"
   ]
  },
  {
   "cell_type": "code",
   "execution_count": null,
   "metadata": {
    "colab": {
     "base_uri": "https://localhost:8080/",
     "height": 68
    },
    "id": "oUR992rtlXD0",
    "outputId": "3ceb97f1-f619-43ab-c0e3-cfa60824500e"
   },
   "outputs": [],
   "source": [
    "geemap.image_stats(image)"
   ]
  },
  {
   "cell_type": "markdown",
   "metadata": {
    "id": "hom6auj_llsB"
   },
   "source": [
    "# Using the inspector tool"
   ]
  },
  {
   "cell_type": "code",
   "execution_count": null,
   "metadata": {
    "colab": {
     "base_uri": "https://localhost:8080/",
     "height": 621,
     "referenced_widgets": [
      "8e6c67c2a0fe4f93a6a87035356ebaf5",
      "d5691e84dbcc41b883c7cc37b842736d",
      "a1dc1e3204e543179074933241e351b0",
      "e6115d4a3ba246b48f75c8977ef4028d",
      "b5ab15cfce3b479eac1fa6e8e62af75e",
      "36bfdfaae16e4e0ca453db0ab25c8c7d",
      "b121e274124e4b3b9fd6167eb3ae0c53",
      "961209aa4c0143ffb79db8586b310182",
      "6aa39bc8b41a4d689fb9748e75688b0e",
      "1ef1fb03df1643f9a24047aac14ced76",
      "cc1015385f2f4122b385f2d5ff9ec1ac",
      "42d454ec886a434095838564e0af347d",
      "8fde1bb7e7744bb89ceed92cb3152439",
      "b7e9a9168aaa48318d8390090eb24f30",
      "e0c9a12cedf0409a9ec174497ec8f4dd",
      "54e4cf8a2a0247e98687be64c0f78418",
      "d8bd756ca36e4246a96dddc289a48bde",
      "e1c37c64af45400f8b4cea09c355a991",
      "f61f722506884f2fbf1e365cfb046593",
      "9c81e83bc42d4ce1b7466ceae6ee9a37",
      "093c258134cd4ce09d8b7aaa4d344cee",
      "2173131e391e4a3b87036f0440ff8c15",
      "ef7b41a7e8134470aeaba9472c1689c8",
      "4e69eeab34664695bef38694985bc6b4",
      "e76ce14f9ce945b1819a51ad10f8af28",
      "94e52c98bad84934a2fbdf19680afd37",
      "e10814b9327c47b597bcd769fd6f79f7",
      "ca0d4c9fabdb4cc79da8433abf5f070a",
      "44d0de3c28a54c1882649a501a85c44c",
      "4e13cb815fe34955b894790f06caee4e",
      "2422f5d4e2054d13b94b807ae94d8096",
      "b38070f4774e43d48eb1fb7445a46d6d",
      "0e7df57c90484fada57112637def7075",
      "ce36858b6a2040fbb5773d003d79303c",
      "0ab1454abbbb41d192e79ab1ba27e8f0",
      "fc91daf6e0fa47688e457d34582ddbe7",
      "234f4ec6c6274d90a7c706fe02435810",
      "f49bb815fae24ef99dec20219d15cba2",
      "7407527f57ae41a792338d08a6208b1d",
      "e59b9dd4cd784c709412d6336b112ef9",
      "155d6f37c2d842a9a6c3d0c29b51acb1",
      "a1a9d0f392c446e6a26753387121bd65",
      "d1c590c4995140c9a08684896fb08dee",
      "4621f98e8a414467a86d069914de820a",
      "8f3845181ec04b94828d2ce9b595c4ee",
      "ee662698eabe4e73b754c898b7747a4a",
      "982265b3e0a94d93a6276e4cc9b553c2",
      "751e096410db4961bef4c071ab9134cc",
      "bd7303563345402db5746a0514e54e5e",
      "f1b634a0cdbc4c7bb0a26f21356f2427",
      "343bda8e845749ad886cc142515f5dcc",
      "29b9f28396e74bf8aade0bc96ccc90a2",
      "09acbfe54d2c4806b7a74c5f7dcad79e",
      "d2de016cf91343e68902249bbc00fcc1",
      "d21c107cca294de2b29f30405b2bea91",
      "30fe2fc5e68049ffbea90c742fb41ac1",
      "36974a5fb31d45e0823bce939181c4b2",
      "5d1ab5490f764c9389fef787276f6789",
      "a9fcbadeef3e40868a30147edbb42dca",
      "c575e1b86abd4f2abeb96d578dc38e8d",
      "bae559becf104d949838c3f854c9e175",
      "3c72d70a427e4e81979ea472b3ffe1b9",
      "1a589c01715a477f9c3b0924ddc6a9dd",
      "8cd7e4c436814893bd9748237a4767b1",
      "c1d4a29f534b4c1ca5f79ecd650bbd83",
      "16d10dd6504346db97008de91071e6b8",
      "2fa9ac6cc5ab424f8896ac79a6dd4e9f",
      "c738ef1206774211887107175979162a",
      "890166a841814b5aab65223aee93d1de",
      "33dae8994cbb4825b50fbd46ea2756a2",
      "39f0501c099a4e6b8be4fd62e63ffd72",
      "512ad315c76147f39f106e6b2b3dcb51",
      "99e753df797e4c9a9b93da31bdcc5743",
      "6c41d05610b14709b37e5c5ddaa56dcb",
      "ba30478224d74928956ed03833fb050b",
      "bde537f354a94ecc992f15e97c490dd1",
      "a7c09fb58133415ba41b2cc121dd2bb0",
      "bd8f51b10de8405e9fe94eb4e3f7adb8",
      "066678dba6ba486b8cc659638dd02e4c",
      "a13a263e70e241e4a98e0486cd73a45f",
      "c90efa0dab74468b8a24d6d0c60674e1",
      "be3032151ad240c0a742eb1d0e525b4e",
      "042fe03a08ac431e9a4653f9e62e48e9",
      "525b7d21fde54b5a80ded97ad6646510",
      "c0414378a9ed40f6b513907e88575573",
      "25b835db011d49bb811eae21a0c4b520",
      "c34314da7b474b28b9b4d9e1bc063d8d",
      "b89bc48be1904353b53ddbc908cc552d",
      "3999d472cf0344dc8b4f3ecc5d388264",
      "49b0ee109cf649068bf1e7b32146e94b",
      "745213f729b04ed2b2ab47723f239967",
      "083656c8066b4f5d965e4618dc3fb929",
      "0e736a58b67146fcb5936c1f87ecd929",
      "9d1f87cd9a1e4a96982684c844d20b76",
      "74d7c8436a3a4ba5ad1d536ece394da3",
      "66db2b0866514c1bb17ac01f5d5e9570",
      "39a6e2cbe2174991b3384ec52cecdd05",
      "94930d4ec04c4457acce577904b9ebdb",
      "a34d780457f147fb901276b0995ec7aa",
      "c6d37723dcc64213a29c6f9d293a6283",
      "c01e3c5917f74a1aa84a74faf6260790",
      "0b08814e96254e7f994970059d07e547",
      "143efc1d9e954124a53774e282895bd0",
      "72b7a35de63c43ae8121f0362285ab0f",
      "7eeaabf59e2445ac97ad4bcea015dfdc"
     ]
    },
    "id": "e89sbW8klhvA",
    "outputId": "bad78f19-5958-407d-e3be-9f699dabb12c"
   },
   "outputs": [],
   "source": [
    "Map = geemap.Map(center=(40, -100), zoom=4)\n",
    "dem = ee.Image('USGS/SRTMGL1_003')\n",
    "landsat7 = ee.Image('LANDSAT/LE7_TOA_5YEAR/1999_2003').select(\n",
    "    ['B1', 'B2', 'B3', 'B4', 'B5', 'B7']\n",
    ")\n",
    "states = ee.FeatureCollection(\"TIGER/2018/States\")\n",
    "vis_params = {\n",
    "    'min': 0,\n",
    "    'max': 4000,\n",
    "    'palette': ['006633', 'E5FFCC', '662A00', 'D8D8D8', 'F5F5F5'],\n",
    "}\n",
    "Map.addLayer(dem, vis_params, 'SRTM DEM')\n",
    "Map.addLayer(\n",
    "    landsat7,\n",
    "    {'bands': ['B4', 'B3', 'B2'], 'min': 20, 'max': 200, 'gamma': 2.0},\n",
    "    'Landsat 7',\n",
    ")\n",
    "Map.addLayer(states, {}, \"US States\")\n",
    "Map"
   ]
  }
 ],
 "metadata": {
  "colab": {
   "provenance": []
  },
  "kernelspec": {
   "display_name": "Python 3",
   "name": "python3"
  },
  "language_info": {
   "name": "python"
  }
 },
 "nbformat": 4,
 "nbformat_minor": 0
}
